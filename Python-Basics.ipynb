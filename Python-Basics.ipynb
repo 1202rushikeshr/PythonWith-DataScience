{
 "cells": [
  {
   "cell_type": "code",
   "execution_count": 1,
   "id": "fc261750-deeb-494d-b528-a970e4a237fa",
   "metadata": {},
   "outputs": [],
   "source": [
    "# Python Basics"
   ]
  },
  {
   "cell_type": "markdown",
   "id": "dc4acc2f-42d9-40dd-acd5-f26687d8f7ed",
   "metadata": {},
   "source": [
    "## Creating Variables in Python"
   ]
  },
  {
   "cell_type": "code",
   "execution_count": 2,
   "id": "87cc93b0-49e5-45ad-a969-bcfe0ffbb9c5",
   "metadata": {},
   "outputs": [
    {
     "name": "stdout",
     "output_type": "stream",
     "text": [
      "Rushikesh\n"
     ]
    }
   ],
   "source": [
    "name=\"Rushikesh\"\n",
    "print(name)"
   ]
  },
  {
   "cell_type": "code",
   "execution_count": 3,
   "id": "6db62607-39ca-4839-a98a-3550d560e90c",
   "metadata": {},
   "outputs": [
    {
     "data": {
      "text/plain": [
       "str"
      ]
     },
     "execution_count": 3,
     "metadata": {},
     "output_type": "execute_result"
    }
   ],
   "source": [
    "type(name)"
   ]
  },
  {
   "cell_type": "code",
   "execution_count": 4,
   "id": "78b6c56b-fdf0-49d8-9417-410f775b4616",
   "metadata": {},
   "outputs": [
    {
     "data": {
      "text/plain": [
       "9"
      ]
     },
     "execution_count": 4,
     "metadata": {},
     "output_type": "execute_result"
    }
   ],
   "source": [
    "len(name)\n"
   ]
  },
  {
   "cell_type": "markdown",
   "id": "83c23a78-bb9d-4d4b-bbfc-ee2dafa1c8a0",
   "metadata": {},
   "source": [
    "## List"
   ]
  },
  {
   "cell_type": "code",
   "execution_count": 2,
   "id": "06531653-05b6-4bbe-8914-b6c7ba376a22",
   "metadata": {},
   "outputs": [
    {
     "data": {
      "text/plain": [
       "4"
      ]
     },
     "execution_count": 2,
     "metadata": {},
     "output_type": "execute_result"
    }
   ],
   "source": [
    "my_list=['Rushi',90,90.25,True]\n",
    "len(my_list)"
   ]
  },
  {
   "cell_type": "code",
   "execution_count": 12,
   "id": "37a2e8a1-7271-46e5-be1e-93d6f433fab4",
   "metadata": {},
   "outputs": [
    {
     "data": {
      "text/plain": [
       "dict_items([('name', 'Rushi'), ('Age', 99)])"
      ]
     },
     "execution_count": 12,
     "metadata": {},
     "output_type": "execute_result"
    }
   ],
   "source": [
    "my_dictonary={'name':'Rushi' ,'Age':99}\n",
    "my_dictonary.items()\n",
    " it was a repetetions was"
   ]
  },
  {
   "cell_type": "code",
   "execution_count": 13,
   "id": "7e2e3fab-a97f-460f-9656-b253fea82bdc",
   "metadata": {},
   "outputs": [
    {
     "name": "stdout",
     "output_type": "stream",
     "text": [
      "<_io.TextIOWrapper name='FIle_basics.txt' mode='r' encoding='cp1252'>\n"
     ]
    }
   ],
   "source": [
    "file= open('FIle_basics.txt','r')\n",
    "print(file)"
   ]
  },
  {
   "cell_type": "code",
   "execution_count": 6,
   "id": "1d590a02-9d88-49ba-8ea3-616d64156387",
   "metadata": {},
   "outputs": [
    {
     "ename": "ValueError",
     "evalue": "I/O operation on closed file.",
     "output_type": "error",
     "traceback": [
      "\u001b[1;31m---------------------------------------------------------------------------\u001b[0m",
      "\u001b[1;31mValueError\u001b[0m                                Traceback (most recent call last)",
      "Cell \u001b[1;32mIn[6], line 1\u001b[0m\n\u001b[1;32m----> 1\u001b[0m \u001b[38;5;28;01mfor\u001b[39;00m content \u001b[38;5;129;01min\u001b[39;00m file:\n\u001b[0;32m      2\u001b[0m     \u001b[38;5;28mprint\u001b[39m(content)\n",
      "\u001b[1;31mValueError\u001b[0m: I/O operation on closed file."
     ]
    }
   ],
   "source": [
    "for content in file:\n",
    "    print(content)"
   ]
  },
  {
   "cell_type": "code",
   "execution_count": 7,
   "id": "7622e6d5-244c-44c4-b16c-1721462ff538",
   "metadata": {},
   "outputs": [
    {
     "name": "stdout",
     "output_type": "stream",
     "text": [
      "Overighting this file\n"
     ]
    }
   ],
   "source": [
    "with open('FIle_basics.txt','r') as file_obj:\n",
    "    data=file_obj.readlines()\n",
    "    for line in data:\n",
    "        print(line)"
   ]
  },
  {
   "cell_type": "code",
   "execution_count": 5,
   "id": "cb4d7732-345c-4e82-aaa5-ceb30664d206",
   "metadata": {},
   "outputs": [],
   "source": [
    "file =open('FIle_basics.txt','w')\n",
    "file.write(\"Overighting this file\")\n",
    "file.close()"
   ]
  },
  {
   "cell_type": "code",
   "execution_count": null,
   "id": "7d349dd8-8592-4c5c-bb4a-3f1bb9f4e41a",
   "metadata": {},
   "outputs": [],
   "source": []
  },
  {
   "cell_type": "code",
   "execution_count": null,
   "id": "07288334-f8e8-4595-b8c7-c1036e29631c",
   "metadata": {},
   "outputs": [],
   "source": []
  }
 ],
 "metadata": {
  "kernelspec": {
   "display_name": "Python 3 (ipykernel)",
   "language": "python",
   "name": "python3"
  },
  "language_info": {
   "codemirror_mode": {
    "name": "ipython",
    "version": 3
   },
   "file_extension": ".py",
   "mimetype": "text/x-python",
   "name": "python",
   "nbconvert_exporter": "python",
   "pygments_lexer": "ipython3",
   "version": "3.11.7"
  }
 },
 "nbformat": 4,
 "nbformat_minor": 5
}
