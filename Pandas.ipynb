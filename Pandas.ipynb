{
 "cells": [
  {
   "cell_type": "code",
   "execution_count": 2,
   "id": "2f46a094-c5ae-4a10-aa0d-a905a4a8590b",
   "metadata": {},
   "outputs": [
    {
     "name": "stdout",
     "output_type": "stream",
     "text": [
      "a    10\n",
      "b    20\n",
      "c    30\n",
      "dtype: int64\n"
     ]
    }
   ],
   "source": [
    "import pandas as pd\n",
    "data={'a':10,'b':20,'c':30}\n",
    "series=pd.Series(data)\n",
    "print(series)"
   ]
  },
  {
   "cell_type": "code",
   "execution_count": 4,
   "id": "7e38c362-aaa9-4445-83d0-228cbf2905cc",
   "metadata": {},
   "outputs": [
    {
     "name": "stdout",
     "output_type": "stream",
     "text": [
      "   One  Two\n",
      "A  1.0    1\n",
      "B  2.0    2\n",
      "C  3.0    3\n",
      "D  NaN    4\n"
     ]
    }
   ],
   "source": [
    "import pandas as pd\n",
    "data={'One':pd.Series([1,2,3],index=['A','B','C']),'Two':pd.Series([1,2,3,4],index=['A','B','C','D'])}\n",
    "table=pd.DataFrame(data)\n",
    "print(table)"
   ]
  },
  {
   "cell_type": "code",
   "execution_count": 8,
   "id": "03c8ddfa-0818-4c9b-84ea-53cd8b441f26",
   "metadata": {},
   "outputs": [
    {
     "name": "stdout",
     "output_type": "stream",
     "text": [
      "   One  Two\n",
      "A  1.0    1\n",
      "B  2.0    2\n",
      "C  3.0    3\n",
      "D  NaN    4\n",
      "0  4.0    5\n",
      "1  6.0    7\n"
     ]
    }
   ],
   "source": [
    "import pandas as pd\n",
    "data={'One':pd.Series([1,2,3],index=['A','B','C']),'Two':pd.Series([1,2,3,4],index=['A','B','C','D'])}\n",
    "table=pd.DataFrame(data)\n",
    "#print(table)\n",
    "row=pd.DataFrame([[4,5],[6,7]],columns=['One','Two'])\n",
    "table= pd.concat([table, row]) #table.append(row)\n",
    "print(table)"
   ]
  },
  {
   "cell_type": "code",
   "execution_count": 10,
   "id": "b523ee21-b912-480f-b7f9-43a0882e7059",
   "metadata": {},
   "outputs": [
    {
     "name": "stdout",
     "output_type": "stream",
     "text": [
      "   One  Two\n",
      "B  2.0    2\n",
      "C  3.0    3\n",
      "D  NaN    4\n",
      "0  4.0    5\n",
      "1  6.0    7\n"
     ]
    }
   ],
   "source": [
    "table = table.drop('A')\n",
    "print(table)\n"
   ]
  },
  {
   "cell_type": "code",
   "execution_count": 13,
   "id": "057fd694-1f78-49ea-9fc1-9bb7498fd8ed",
   "metadata": {},
   "outputs": [],
   "source": [
    "del table['Two']"
   ]
  },
  {
   "cell_type": "code",
   "execution_count": 14,
   "id": "03a183c5-e46c-44b2-a750-f994e14b7103",
   "metadata": {},
   "outputs": [
    {
     "name": "stdout",
     "output_type": "stream",
     "text": [
      "   One\n",
      "B  2.0\n",
      "C  3.0\n",
      "D  NaN\n",
      "0  4.0\n",
      "1  6.0\n"
     ]
    }
   ],
   "source": [
    "print(table)"
   ]
  },
  {
   "cell_type": "code",
   "execution_count": 19,
   "id": "2cefb492-8297-4a74-8a13-06d6190cbe8e",
   "metadata": {},
   "outputs": [
    {
     "name": "stdout",
     "output_type": "stream",
     "text": [
      "One    3.0\n",
      "Name: C, dtype: float64\n"
     ]
    }
   ],
   "source": [
    "print(table.loc['C'])"
   ]
  },
  {
   "cell_type": "code",
   "execution_count": 24,
   "id": "268cdbf7-af35-487d-837a-55427a06ac5c",
   "metadata": {},
   "outputs": [
    {
     "name": "stdout",
     "output_type": "stream",
     "text": [
      "3\n",
      "1\n"
     ]
    }
   ],
   "source": [
    "import pandas as pd\n",
    "data={'One':pd.Series([1,2,3],index=['A','B','C']),'Two':pd.Series([1,2,3,4],index=['A','B','C','D'])}\n",
    "table=pd.DataFrame(data)\n",
    "#print(table)\n",
    "row=pd.DataFrame([[4,5],[6,7]],columns=['One','Two'])\n",
    "table= pd.concat([table, row])\n",
    "print(table.loc['C','Two'])\n",
    "print(table.iloc[0,1])"
   ]
  },
  {
   "cell_type": "code",
   "execution_count": null,
   "id": "962289a7-2bc4-4f47-bcb1-f1bdd0d8a678",
   "metadata": {},
   "outputs": [],
   "source": []
  }
 ],
 "metadata": {
  "kernelspec": {
   "display_name": "Python 3 (ipykernel)",
   "language": "python",
   "name": "python3"
  },
  "language_info": {
   "codemirror_mode": {
    "name": "ipython",
    "version": 3
   },
   "file_extension": ".py",
   "mimetype": "text/x-python",
   "name": "python",
   "nbconvert_exporter": "python",
   "pygments_lexer": "ipython3",
   "version": "3.11.7"
  }
 },
 "nbformat": 4,
 "nbformat_minor": 5
}
