{
 "cells": [
  {
   "cell_type": "markdown",
   "id": "6bc157b2-737b-4782-8139-9a2dbcc9a14e",
   "metadata": {},
   "source": [
    " # USED CAR PRICE PREDICTION-\n",
    " # A]Provide the best performing model to determine the price of the used car\n",
    " # B]Providing the most important features which determine the price \n",
    "\n",
    " ## Tasks to be completed \n",
    "        ### 1.import libraries and load dataset\n",
    "        ### 2.Exploratory Data Analysis:-\n",
    "                                a)Univariate Analysis to understand the distribution of features.\n",
    "                                b)Multivariate analysis to determine correlations.\n",
    "        ### 3.Layout regression experiment space.\n",
    "        ### 4.Publish the performance of all the models on the same hold-out/ test dataset.\n",
    "        ### 5.List out the most important features determining the price of used cars.\r\n"
   ]
  },
  {
   "cell_type": "code",
   "execution_count": 1,
   "id": "7f7ad13d-5c63-4a92-87bb-dc9d7230ab6c",
   "metadata": {},
   "outputs": [],
   "source": [
    "### STEP-1 importing all required libraries\n",
    "import numpy as np\n",
    "import pandas as pd\n",
    "import matplotlib.pyplot as plt"
   ]
  },
  {
   "cell_type": "code",
   "execution_count": 2,
   "id": "47f97a3a-d1ab-4350-ab65-19d85fa24373",
   "metadata": {},
   "outputs": [],
   "source": [
    "### STEP-2 READ THE DATA FROM DATASET\n",
    "carDF=pd.read_csv(\"cars1.csv\")\n"
   ]
  },
  {
   "cell_type": "code",
   "execution_count": 3,
   "id": "0849e47a-69f1-45ca-b1d3-45d988fe3ae6",
   "metadata": {},
   "outputs": [
    {
     "name": "stdout",
     "output_type": "stream",
     "text": [
      "(1725, 11)\n",
      "<class 'pandas.core.frame.DataFrame'>\n",
      "RangeIndex: 1725 entries, 0 to 1724\n",
      "Data columns (total 11 columns):\n",
      " #   Column                   Non-Null Count  Dtype \n",
      "---  ------                   --------------  ----- \n",
      " 0   Id                       1725 non-null   int64 \n",
      " 1   year                     1725 non-null   int64 \n",
      " 2   brand                    1725 non-null   object\n",
      " 3   full_model_name          1725 non-null   object\n",
      " 4   model_name               1725 non-null   object\n",
      " 5   distance_travelled(kms)  1725 non-null   int64 \n",
      " 6   fuel_type                1725 non-null   object\n",
      " 7   city                     1725 non-null   object\n",
      " 8   brand_rank               1725 non-null   int64 \n",
      " 9   car_age                  1725 non-null   int64 \n",
      " 10  price                    1725 non-null   int64 \n",
      "dtypes: int64(6), object(5)\n",
      "memory usage: 148.4+ KB\n",
      "None\n"
     ]
    },
    {
     "data": {
      "text/html": [
       "<div>\n",
       "<style scoped>\n",
       "    .dataframe tbody tr th:only-of-type {\n",
       "        vertical-align: middle;\n",
       "    }\n",
       "\n",
       "    .dataframe tbody tr th {\n",
       "        vertical-align: top;\n",
       "    }\n",
       "\n",
       "    .dataframe thead th {\n",
       "        text-align: right;\n",
       "    }\n",
       "</style>\n",
       "<table border=\"1\" class=\"dataframe\">\n",
       "  <thead>\n",
       "    <tr style=\"text-align: right;\">\n",
       "      <th></th>\n",
       "      <th>Id</th>\n",
       "      <th>year</th>\n",
       "      <th>brand</th>\n",
       "      <th>full_model_name</th>\n",
       "      <th>model_name</th>\n",
       "      <th>distance_travelled(kms)</th>\n",
       "      <th>fuel_type</th>\n",
       "      <th>city</th>\n",
       "      <th>brand_rank</th>\n",
       "      <th>car_age</th>\n",
       "      <th>price</th>\n",
       "    </tr>\n",
       "  </thead>\n",
       "  <tbody>\n",
       "    <tr>\n",
       "      <th>0</th>\n",
       "      <td>0</td>\n",
       "      <td>2016</td>\n",
       "      <td>Honda</td>\n",
       "      <td>Honda Brio S MT</td>\n",
       "      <td>Brio</td>\n",
       "      <td>9680</td>\n",
       "      <td>Petrol</td>\n",
       "      <td>Mumbai</td>\n",
       "      <td>7</td>\n",
       "      <td>5</td>\n",
       "      <td>425000</td>\n",
       "    </tr>\n",
       "    <tr>\n",
       "      <th>1</th>\n",
       "      <td>1</td>\n",
       "      <td>2012</td>\n",
       "      <td>Nissan</td>\n",
       "      <td>Nissan Sunny XV Diesel</td>\n",
       "      <td>Sunny</td>\n",
       "      <td>119120</td>\n",
       "      <td>Diesel</td>\n",
       "      <td>Mumbai</td>\n",
       "      <td>11</td>\n",
       "      <td>9</td>\n",
       "      <td>325000</td>\n",
       "    </tr>\n",
       "    <tr>\n",
       "      <th>2</th>\n",
       "      <td>2</td>\n",
       "      <td>2017</td>\n",
       "      <td>Toyota</td>\n",
       "      <td>Toyota Fortuner 2.8 4x2 MT [2016-2020]</td>\n",
       "      <td>Fortuner</td>\n",
       "      <td>64593</td>\n",
       "      <td>Diesel</td>\n",
       "      <td>Thane</td>\n",
       "      <td>1</td>\n",
       "      <td>4</td>\n",
       "      <td>2650000</td>\n",
       "    </tr>\n",
       "    <tr>\n",
       "      <th>3</th>\n",
       "      <td>3</td>\n",
       "      <td>2017</td>\n",
       "      <td>Mercedes-Benz</td>\n",
       "      <td>Mercedes-Benz E-Class E 220d Expression [2019-...</td>\n",
       "      <td>E-Class</td>\n",
       "      <td>25000</td>\n",
       "      <td>Diesel</td>\n",
       "      <td>Mumbai</td>\n",
       "      <td>2</td>\n",
       "      <td>4</td>\n",
       "      <td>4195000</td>\n",
       "    </tr>\n",
       "    <tr>\n",
       "      <th>4</th>\n",
       "      <td>4</td>\n",
       "      <td>2012</td>\n",
       "      <td>Hyundai</td>\n",
       "      <td>Hyundai Verna Fluidic 1.6 CRDi SX</td>\n",
       "      <td>Verna</td>\n",
       "      <td>23800</td>\n",
       "      <td>Diesel</td>\n",
       "      <td>Mumbai</td>\n",
       "      <td>14</td>\n",
       "      <td>9</td>\n",
       "      <td>475000</td>\n",
       "    </tr>\n",
       "  </tbody>\n",
       "</table>\n",
       "</div>"
      ],
      "text/plain": [
       "   Id  year          brand                                    full_model_name  \\\n",
       "0   0  2016          Honda                                    Honda Brio S MT   \n",
       "1   1  2012         Nissan                             Nissan Sunny XV Diesel   \n",
       "2   2  2017         Toyota             Toyota Fortuner 2.8 4x2 MT [2016-2020]   \n",
       "3   3  2017  Mercedes-Benz  Mercedes-Benz E-Class E 220d Expression [2019-...   \n",
       "4   4  2012        Hyundai                  Hyundai Verna Fluidic 1.6 CRDi SX   \n",
       "\n",
       "  model_name  distance_travelled(kms) fuel_type    city  brand_rank  car_age  \\\n",
       "0       Brio                     9680    Petrol  Mumbai           7        5   \n",
       "1      Sunny                   119120    Diesel  Mumbai          11        9   \n",
       "2   Fortuner                    64593    Diesel   Thane           1        4   \n",
       "3    E-Class                    25000    Diesel  Mumbai           2        4   \n",
       "4      Verna                    23800    Diesel  Mumbai          14        9   \n",
       "\n",
       "     price  \n",
       "0   425000  \n",
       "1   325000  \n",
       "2  2650000  \n",
       "3  4195000  \n",
       "4   475000  "
      ]
     },
     "execution_count": 3,
     "metadata": {},
     "output_type": "execute_result"
    }
   ],
   "source": [
    "### STEP-3: Explore data\n",
    "print(carDF.shape)\n",
    "print(carDF.info())\n",
    "carDF.head(5)\n",
    "#carDF.describe()\n"
   ]
  },
  {
   "cell_type": "code",
   "execution_count": 4,
   "id": "22733702-4d5b-4a18-bfab-d6faa7bacd59",
   "metadata": {},
   "outputs": [
    {
     "data": {
      "text/html": [
       "<div>\n",
       "<style scoped>\n",
       "    .dataframe tbody tr th:only-of-type {\n",
       "        vertical-align: middle;\n",
       "    }\n",
       "\n",
       "    .dataframe tbody tr th {\n",
       "        vertical-align: top;\n",
       "    }\n",
       "\n",
       "    .dataframe thead th {\n",
       "        text-align: right;\n",
       "    }\n",
       "</style>\n",
       "<table border=\"1\" class=\"dataframe\">\n",
       "  <thead>\n",
       "    <tr style=\"text-align: right;\">\n",
       "      <th></th>\n",
       "      <th>year</th>\n",
       "      <th>brand</th>\n",
       "      <th>full_model_name</th>\n",
       "      <th>model_name</th>\n",
       "      <th>distance_travelled(kms)</th>\n",
       "      <th>fuel_type</th>\n",
       "      <th>city</th>\n",
       "      <th>brand_rank</th>\n",
       "      <th>car_age</th>\n",
       "      <th>price</th>\n",
       "    </tr>\n",
       "  </thead>\n",
       "  <tbody>\n",
       "    <tr>\n",
       "      <th>0</th>\n",
       "      <td>2016</td>\n",
       "      <td>Honda</td>\n",
       "      <td>Honda Brio S MT</td>\n",
       "      <td>Brio</td>\n",
       "      <td>9680</td>\n",
       "      <td>Petrol</td>\n",
       "      <td>Mumbai</td>\n",
       "      <td>7</td>\n",
       "      <td>5</td>\n",
       "      <td>425000</td>\n",
       "    </tr>\n",
       "    <tr>\n",
       "      <th>1</th>\n",
       "      <td>2012</td>\n",
       "      <td>Nissan</td>\n",
       "      <td>Nissan Sunny XV Diesel</td>\n",
       "      <td>Sunny</td>\n",
       "      <td>119120</td>\n",
       "      <td>Diesel</td>\n",
       "      <td>Mumbai</td>\n",
       "      <td>11</td>\n",
       "      <td>9</td>\n",
       "      <td>325000</td>\n",
       "    </tr>\n",
       "    <tr>\n",
       "      <th>2</th>\n",
       "      <td>2017</td>\n",
       "      <td>Toyota</td>\n",
       "      <td>Toyota Fortuner 2.8 4x2 MT [2016-2020]</td>\n",
       "      <td>Fortuner</td>\n",
       "      <td>64593</td>\n",
       "      <td>Diesel</td>\n",
       "      <td>Thane</td>\n",
       "      <td>1</td>\n",
       "      <td>4</td>\n",
       "      <td>2650000</td>\n",
       "    </tr>\n",
       "    <tr>\n",
       "      <th>3</th>\n",
       "      <td>2017</td>\n",
       "      <td>Mercedes-Benz</td>\n",
       "      <td>Mercedes-Benz E-Class E 220d Expression [2019-...</td>\n",
       "      <td>E-Class</td>\n",
       "      <td>25000</td>\n",
       "      <td>Diesel</td>\n",
       "      <td>Mumbai</td>\n",
       "      <td>2</td>\n",
       "      <td>4</td>\n",
       "      <td>4195000</td>\n",
       "    </tr>\n",
       "    <tr>\n",
       "      <th>4</th>\n",
       "      <td>2012</td>\n",
       "      <td>Hyundai</td>\n",
       "      <td>Hyundai Verna Fluidic 1.6 CRDi SX</td>\n",
       "      <td>Verna</td>\n",
       "      <td>23800</td>\n",
       "      <td>Diesel</td>\n",
       "      <td>Mumbai</td>\n",
       "      <td>14</td>\n",
       "      <td>9</td>\n",
       "      <td>475000</td>\n",
       "    </tr>\n",
       "  </tbody>\n",
       "</table>\n",
       "</div>"
      ],
      "text/plain": [
       "   year          brand                                    full_model_name  \\\n",
       "0  2016          Honda                                    Honda Brio S MT   \n",
       "1  2012         Nissan                             Nissan Sunny XV Diesel   \n",
       "2  2017         Toyota             Toyota Fortuner 2.8 4x2 MT [2016-2020]   \n",
       "3  2017  Mercedes-Benz  Mercedes-Benz E-Class E 220d Expression [2019-...   \n",
       "4  2012        Hyundai                  Hyundai Verna Fluidic 1.6 CRDi SX   \n",
       "\n",
       "  model_name  distance_travelled(kms) fuel_type    city  brand_rank  car_age  \\\n",
       "0       Brio                     9680    Petrol  Mumbai           7        5   \n",
       "1      Sunny                   119120    Diesel  Mumbai          11        9   \n",
       "2   Fortuner                    64593    Diesel   Thane           1        4   \n",
       "3    E-Class                    25000    Diesel  Mumbai           2        4   \n",
       "4      Verna                    23800    Diesel  Mumbai          14        9   \n",
       "\n",
       "     price  \n",
       "0   425000  \n",
       "1   325000  \n",
       "2  2650000  \n",
       "3  4195000  \n",
       "4   475000  "
      ]
     },
     "execution_count": 4,
     "metadata": {},
     "output_type": "execute_result"
    }
   ],
   "source": [
    "### STEP-4 Clean/Prepare the data\n",
    "carDF.isnull().sum() # (Check for null columns)\n",
    "carDF.isna().duplicated\n",
    "car_df=carDF.drop('Id',axis=1)\n",
    "car_df.head(5)"
   ]
  },
  {
   "cell_type": "code",
   "execution_count": 5,
   "id": "e99e2dab-8a33-4665-825d-2e34700e88ef",
   "metadata": {},
   "outputs": [
    {
     "data": {
      "text/plain": [
       "<matplotlib.collections.PathCollection at 0x2063dd2e710>"
      ]
     },
     "execution_count": 5,
     "metadata": {},
     "output_type": "execute_result"
    },
    {
     "data": {
      "image/png": "[encoded data removed]",
      "text/plain": [
       "<Figure size 640x480 with 1 Axes>"
      ]
     },
     "metadata": {},
     "output_type": "display_data"
    }
   ],
   "source": [
    "### STEP-5 :Visualize the data\n",
    "plt.scatter(car_df['distance_travelled(kms)'],car_df['price'],s=1)"
   ]
  },
  {
   "cell_type": "code",
   "execution_count": 6,
   "id": "61c07ef6-34a0-423e-ac27-aed34930d669",
   "metadata": {},
   "outputs": [
    {
     "data": {
      "text/plain": [
       "<matplotlib.collections.PathCollection at 0x2063dcf8790>"
      ]
     },
     "execution_count": 6,
     "metadata": {},
     "output_type": "execute_result"
    },
    {
     "data": {
      "image/png": "[encoded data removed]",
      "text/plain": [
       "<Figure size 640x480 with 1 Axes>"
      ]
     },
     "metadata": {},
     "output_type": "display_data"
    }
   ],
   "source": [
    "plt.scatter(car_df['car_age'],car_df['price'],s=1)"
   ]
  },
  {
   "cell_type": "code",
   "execution_count": 7,
   "id": "7f16da1d-b294-4d1a-aee6-b2b9e3dd7b64",
   "metadata": {},
   "outputs": [],
   "source": [
    "### STEP-6 Standardise the data \n",
    "### Label Encoding -NA in this case as this is linear and not catogorical data'"
   ]
  },
  {
   "cell_type": "code",
   "execution_count": 8,
   "id": "925e6ea9-26bf-48a9-99ce-3129c2f8fbbc",
   "metadata": {},
   "outputs": [],
   "source": [
    "### STEP-7:Separate Features & Target\n",
    "\n",
    "X=car_df[['distance_travelled(kms)','brand_rank','car_age']].values\n",
    "y=car_df['price'].values\n"
   ]
  },
  {
   "cell_type": "code",
   "execution_count": 9,
   "id": "32969325-8130-44cd-864f-3f5ee4417ed0",
   "metadata": {},
   "outputs": [],
   "source": [
    "### SREP-8 train-test split data\n",
    "from sklearn.model_selection import train_test_split\n",
    "X_train,X_test,y_train,y_test= train_test_split(X,y, test_size=0.3, random_state=10)"
   ]
  },
  {
   "cell_type": "code",
   "execution_count": 10,
   "id": "4426527e-99ea-4a6d-8b56-052247815be2",
   "metadata": {},
   "outputs": [
    {
     "data": {
      "text/html": [
       "<style>#sk-container-id-1 {color: black;background-color: white;}#sk-container-id-1 pre{padding: 0;}#sk-container-id-1 div.sk-toggleable {background-color: white;}#sk-container-id-1 label.sk-toggleable__label {cursor: pointer;display: block;width: 100%;margin-bottom: 0;padding: 0.3em;box-sizing: border-box;text-align: center;}#sk-container-id-1 label.sk-toggleable__label-arrow:before {content: \"▸\";float: left;margin-right: 0.25em;color: #696969;}#sk-container-id-1 label.sk-toggleable__label-arrow:hover:before {color: black;}#sk-container-id-1 div.sk-estimator:hover label.sk-toggleable__label-arrow:before {color: black;}#sk-container-id-1 div.sk-toggleable__content {max-height: 0;max-width: 0;overflow: hidden;text-align: left;background-color: #f0f8ff;}#sk-container-id-1 div.sk-toggleable__content pre {margin: 0.2em;color: black;border-radius: 0.25em;background-color: #f0f8ff;}#sk-container-id-1 input.sk-toggleable__control:checked~div.sk-toggleable__content {max-height: 200px;max-width: 100%;overflow: auto;}#sk-container-id-1 input.sk-toggleable__control:checked~label.sk-toggleable__label-arrow:before {content: \"▾\";}#sk-container-id-1 div.sk-estimator input.sk-toggleable__control:checked~label.sk-toggleable__label {background-color: #d4ebff;}#sk-container-id-1 div.sk-label input.sk-toggleable__control:checked~label.sk-toggleable__label {background-color: #d4ebff;}#sk-container-id-1 input.sk-hidden--visually {border: 0;clip: rect(1px 1px 1px 1px);clip: rect(1px, 1px, 1px, 1px);height: 1px;margin: -1px;overflow: hidden;padding: 0;position: absolute;width: 1px;}#sk-container-id-1 div.sk-estimator {font-family: monospace;background-color: #f0f8ff;border: 1px dotted black;border-radius: 0.25em;box-sizing: border-box;margin-bottom: 0.5em;}#sk-container-id-1 div.sk-estimator:hover {background-color: #d4ebff;}#sk-container-id-1 div.sk-parallel-item::after {content: \"\";width: 100%;border-bottom: 1px solid gray;flex-grow: 1;}#sk-container-id-1 div.sk-label:hover label.sk-toggleable__label {background-color: #d4ebff;}#sk-container-id-1 div.sk-serial::before {content: \"\";position: absolute;border-left: 1px solid gray;box-sizing: border-box;top: 0;bottom: 0;left: 50%;z-index: 0;}#sk-container-id-1 div.sk-serial {display: flex;flex-direction: column;align-items: center;background-color: white;padding-right: 0.2em;padding-left: 0.2em;position: relative;}#sk-container-id-1 div.sk-item {position: relative;z-index: 1;}#sk-container-id-1 div.sk-parallel {display: flex;align-items: stretch;justify-content: center;background-color: white;position: relative;}#sk-container-id-1 div.sk-item::before, #sk-container-id-1 div.sk-parallel-item::before {content: \"\";position: absolute;border-left: 1px solid gray;box-sizing: border-box;top: 0;bottom: 0;left: 50%;z-index: -1;}#sk-container-id-1 div.sk-parallel-item {display: flex;flex-direction: column;z-index: 1;position: relative;background-color: white;}#sk-container-id-1 div.sk-parallel-item:first-child::after {align-self: flex-end;width: 50%;}#sk-container-id-1 div.sk-parallel-item:last-child::after {align-self: flex-start;width: 50%;}#sk-container-id-1 div.sk-parallel-item:only-child::after {width: 0;}#sk-container-id-1 div.sk-dashed-wrapped {border: 1px dashed gray;margin: 0 0.4em 0.5em 0.4em;box-sizing: border-box;padding-bottom: 0.4em;background-color: white;}#sk-container-id-1 div.sk-label label {font-family: monospace;font-weight: bold;display: inline-block;line-height: 1.2em;}#sk-container-id-1 div.sk-label-container {text-align: center;}#sk-container-id-1 div.sk-container {/* jupyter's `normalize.less` sets `[hidden] { display: none; }` but bootstrap.min.css set `[hidden] { display: none !important; }` so we also need the `!important` here to be able to override the default hidden behavior on the sphinx rendered scikit-learn.org. See: https://github.com/scikit-learn/scikit-learn/issues/21755 */display: inline-block !important;position: relative;}#sk-container-id-1 div.sk-text-repr-fallback {display: none;}</style><div id=\"sk-container-id-1\" class=\"sk-top-container\"><div class=\"sk-text-repr-fallback\"><pre>LinearRegression()</pre><b>In a Jupyter environment, please rerun this cell to show the HTML representation or trust the notebook. <br />On GitHub, the HTML representation is unable to render, please try loading this page with nbviewer.org.</b></div><div class=\"sk-container\" hidden><div class=\"sk-item\"><div class=\"sk-estimator sk-toggleable\"><input class=\"sk-toggleable__control sk-hidden--visually\" id=\"sk-estimator-id-1\" type=\"checkbox\" checked><label for=\"sk-estimator-id-1\" class=\"sk-toggleable__label sk-toggleable__label-arrow\">LinearRegression</label><div class=\"sk-toggleable__content\"><pre>LinearRegression()</pre></div></div></div></div></div>"
      ],
      "text/plain": [
       "LinearRegression()"
      ]
     },
     "execution_count": 10,
     "metadata": {},
     "output_type": "execute_result"
    }
   ],
   "source": [
    "### STEP-9 Fiting the Model\n",
    "from sklearn.linear_model import LinearRegression\n",
    "carPriceModel= LinearRegression()\n",
    "carPriceModel.fit(X_train,y_train)\n"
   ]
  },
  {
   "cell_type": "code",
   "execution_count": 11,
   "id": "d2af8c51-d527-4251-8011-85d5e088a2f4",
   "metadata": {},
   "outputs": [],
   "source": [
    "### STEP-10: Predict the test value based on the fited Model\n",
    "y_pred_linear = carPriceModel.predict(X_test)"
   ]
  },
  {
   "cell_type": "code",
   "execution_count": 12,
   "id": "7fbd4039-04de-44ed-bf99-a9106a3b54f4",
   "metadata": {
    "scrolled": true
   },
   "outputs": [
    {
     "name": "stdout",
     "output_type": "stream",
     "text": [
      " R² Score using only 3 columns:\n",
      "0.1290157913649369\n"
     ]
    }
   ],
   "source": [
    "###  STEP-11:Evaluate the Model\n",
    "from sklearn.metrics import r2_score\n",
    "print(\" R² Score using only 3 columns:\")\n",
    "print(r2_score(y_test,y_pred_linear))\n",
    "\n",
    "## O/P r2score-0.13\n"
   ]
  },
  {
   "cell_type": "code",
   "execution_count": 13,
   "id": "c9ad5489-86c3-425f-97d9-dc1c641ddbf1",
   "metadata": {},
   "outputs": [
    {
     "name": "stdout",
     "output_type": "stream",
     "text": [
      "Best R² Score using random Forest Regressor:\n",
      "0.5300931632466155\n"
     ]
    }
   ],
   "source": [
    "## STEP-12 Performance Enhacment\n",
    "## Model Performance Boosting using Random Forest Regressor\n",
    "from sklearn.ensemble import RandomForestRegressor\n",
    "carPriceModel_rf=RandomForestRegressor(random_state=10)\n",
    "\n",
    "\n",
    "carPriceModel_rf.fit(X_train,y_train)\n",
    "y_pred_rf=carPriceModel_rf.predict(X_test)\n",
    "print(\"Best R² Score using random Forest Regressor:\")\n",
    "print(r2_score(y_test,y_pred_rf))\n",
    "\n",
    "## O/P r2score-0.53\n",
    "\n",
    "\n",
    "\n",
    "\n"
   ]
  },
  {
   "cell_type": "code",
   "execution_count": 14,
   "id": "22291dd0-139e-469f-89cf-5356d1476784",
   "metadata": {},
   "outputs": [
    {
     "name": "stdout",
     "output_type": "stream",
     "text": [
      "R² Score  after label encoding:\n",
      "0.19230771147567172\n"
     ]
    }
   ],
   "source": [
    "## Lets Add one more feature ''Fuel_type to further boost model performence\n",
    "from sklearn.preprocessing import LabelEncoder\n",
    "ftEncoder=LabelEncoder()\n",
    "#Encoding for transforming categorical data to Numerical data\n",
    "car_df['encodedFuelType']= ftEncoder.fit_transform(car_df['fuel_type'])\n",
    "car_df['encodedFuelType'].value_counts()\n",
    "\n",
    "#STEP-7:Separate Features & Target\n",
    "X=car_df[['distance_travelled(kms)','brand_rank','car_age','encodedFuelType']].values\n",
    "y=car_df['price'].values\n",
    "\n",
    "#STEP-8:Train Test data Split\n",
    "X_train,X_test,y_train,y_test=train_test_split(X,y,test_size=0.3, random_state=10)\n",
    "\n",
    "#SPET-9:fitting the data in model\n",
    "from sklearn.linear_model import LinearRegression\n",
    "oldCarPrzModel=LinearRegression()\n",
    "oldCarPrzModel.fit(X_train,y_train)\n",
    "\n",
    "#Step-10: Predicting the model outcome\n",
    "y_pred_cp=oldCarPrzModel.predict(X_test)\n",
    "\n",
    "#Evaluate the model\n",
    "print(\"R² Score  after label encoding:\")\n",
    "print(r2_score(y_test,y_pred_cp))\n"
   ]
  },
  {
   "cell_type": "code",
   "execution_count": 15,
   "id": "11d5dd11-e8b9-455e-a1ae-74ad70984407",
   "metadata": {},
   "outputs": [
    {
     "name": "stdout",
     "output_type": "stream",
     "text": [
      "Best R² Score using RandomForestRegressor after label encoding:\n",
      "0.5283357998641509\n"
     ]
    }
   ],
   "source": [
    "## STEP-12 Performance Enhacment\n",
    "## Model Performance Boosting using Random Forest Regressor\n",
    "from sklearn.ensemble import RandomForestRegressor\n",
    "carPriceModel_rf=RandomForestRegressor(random_state=6)\n",
    "\n",
    "carPriceModel_rf.fit(X_train,y_train)\n",
    "y_pred_rf=carPriceModel_rf.predict(X_test)\n",
    "print(\"Best R² Score using RandomForestRegressor after label encoding:\")\n",
    "print(r2_score(y_test,y_pred_rf))"
   ]
  },
  {
   "cell_type": "code",
   "execution_count": 16,
   "id": "2d6d72a4-1784-4b10-b799-16dadfa0a0e3",
   "metadata": {},
   "outputs": [
    {
     "name": "stdout",
     "output_type": "stream",
     "text": [
      "Fitting 3 folds for each of 108 candidates, totalling 324 fits\n",
      "Best Parameters: {'max_depth': 10, 'min_samples_leaf': 1, 'min_samples_split': 2, 'n_estimators': 200}\n",
      "Best R² Score using Grid Search: {best_r2}\n"
     ]
    }
   ],
   "source": [
    "from sklearn.ensemble import RandomForestRegressor\n",
    "from sklearn.model_selection import GridSearchCV\n",
    "from sklearn.metrics import r2_score, mean_absolute_error\n",
    "\n",
    "# Define the model\n",
    "rf_model = RandomForestRegressor(random_state=10)\n",
    "\n",
    "# Define the parameter grid\n",
    "param_grid = {\n",
    "    'n_estimators': [50, 100, 200],  # Number of trees in the forest\n",
    "    'max_depth': [None, 10, 20, 30],  # Maximum depth of the tree\n",
    "    'min_samples_split': [2, 5, 10],  # Minimum samples to split a node\n",
    "    'min_samples_leaf': [1, 2, 4],  # Minimum samples at a leaf node\n",
    "}\n",
    "\n",
    "# Perform Grid Search\n",
    "grid_search = GridSearchCV(estimator=rf_model, param_grid=param_grid, \n",
    "                           cv=3, scoring='r2', verbose=2, n_jobs=-1)\n",
    "\n",
    "# Fit GridSearchCV to the training data\n",
    "grid_search.fit(X_train, y_train)\n",
    "\n",
    "# Get the best parameters and model\n",
    "best_params = grid_search.best_params_\n",
    "best_model = grid_search.best_estimator_\n",
    "\n",
    "# Predict using the best model\n",
    "y_pred_best = best_model.predict(X_test)\n",
    "\n",
    "# Evaluate the best model\n",
    "best_r2 = r2_score(y_test, y_pred_best)\n",
    "\n",
    "print(\"Best Parameters:\", best_params)\n",
    "print(\"Best R² Score using Grid Search: {best_r2}\")\n",
    "\n"
   ]
  },
  {
   "cell_type": "code",
   "execution_count": null,
   "id": "218cd5c8-7199-45bc-84ff-00a12d6b78c5",
   "metadata": {},
   "outputs": [],
   "source": []
  }
 ],
 "metadata": {
  "kernelspec": {
   "display_name": "Python 3 (ipykernel)",
   "language": "python",
   "name": "python3"
  },
  "language_info": {
   "codemirror_mode": {
    "name": "ipython",
    "version": 3
   },
   "file_extension": ".py",
   "mimetype": "text/x-python",
   "name": "python",
   "nbconvert_exporter": "python",
   "pygments_lexer": "ipython3",
   "version": "3.11.7"
  }
 },
 "nbformat": 4,
 "nbformat_minor": 5
}
