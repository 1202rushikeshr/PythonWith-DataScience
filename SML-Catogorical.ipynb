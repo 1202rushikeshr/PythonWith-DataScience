{
 "cells": [
  {
   "cell_type": "code",
   "execution_count": 9,
   "id": "8eb4e472-937a-48cc-8594-d4d591512fb8",
   "metadata": {},
   "outputs": [
    {
     "data": {
      "text/plain": [
       "id                           0\n",
       "diagnosis                    0\n",
       "radius_mean                  0\n",
       "texture_mean                 0\n",
       "perimeter_mean               0\n",
       "area_mean                    0\n",
       "smoothness_mean              0\n",
       "compactness_mean             0\n",
       "concavity_mean               0\n",
       "concave points_mean          0\n",
       "symmetry_mean                0\n",
       "fractal_dimension_mean       0\n",
       "radius_se                    0\n",
       "texture_se                   0\n",
       "perimeter_se                 0\n",
       "area_se                      0\n",
       "smoothness_se                0\n",
       "compactness_se               0\n",
       "concavity_se                 0\n",
       "concave points_se            0\n",
       "symmetry_se                  0\n",
       "fractal_dimension_se         0\n",
       "radius_worst                 0\n",
       "texture_worst                0\n",
       "perimeter_worst              0\n",
       "area_worst                   0\n",
       "smoothness_worst             0\n",
       "compactness_worst            0\n",
       "concavity_worst              0\n",
       "concave points_worst         0\n",
       "symmetry_worst               0\n",
       "fractal_dimension_worst      0\n",
       "Unnamed: 32                569\n",
       "dtype: int64"
      ]
     },
     "execution_count": 9,
     "metadata": {},
     "output_type": "execute_result"
    }
   ],
   "source": [
    "import numpy as np\n",
    "import pandas as pd\n",
    "import matplotlib.pyplot as plt\n",
    "#Step-1 :Read Data\n",
    "cancer_df=pd.read_csv('C:/Users/1202r/OneDrive/Desktop/Edureka/Python/NumpyPandas/datasets/Datasets-Sklearn/CancerData.csv')\n",
    "#cancer_df.shape\n",
    "cancer_df.isnull().sum()\n",
    "#Model building\n",
    "#STEP 1:"
   ]
  },
  {
   "cell_type": "code",
   "execution_count": 12,
   "id": "228946df-b299-4267-b559-00f2c48ea2f3",
   "metadata": {},
   "outputs": [
    {
     "data": {
      "text/plain": [
       "id                         0\n",
       "diagnosis                  0\n",
       "radius_mean                0\n",
       "texture_mean               0\n",
       "perimeter_mean             0\n",
       "area_mean                  0\n",
       "smoothness_mean            0\n",
       "compactness_mean           0\n",
       "concavity_mean             0\n",
       "concave points_mean        0\n",
       "symmetry_mean              0\n",
       "fractal_dimension_mean     0\n",
       "radius_se                  0\n",
       "texture_se                 0\n",
       "perimeter_se               0\n",
       "area_se                    0\n",
       "smoothness_se              0\n",
       "compactness_se             0\n",
       "concavity_se               0\n",
       "concave points_se          0\n",
       "symmetry_se                0\n",
       "fractal_dimension_se       0\n",
       "radius_worst               0\n",
       "texture_worst              0\n",
       "perimeter_worst            0\n",
       "area_worst                 0\n",
       "smoothness_worst           0\n",
       "compactness_worst          0\n",
       "concavity_worst            0\n",
       "concave points_worst       0\n",
       "symmetry_worst             0\n",
       "fractal_dimension_worst    0\n",
       "dtype: int64"
      ]
     },
     "execution_count": 12,
     "metadata": {},
     "output_type": "execute_result"
    }
   ],
   "source": [
    "# drop   having null values\n",
    "cancer_df.drop('Unnamed: 32',axis=1,inplace=True)\n",
    "cancer_df.isnull().sum()"
   ]
  },
  {
   "cell_type": "code",
   "execution_count": 20,
   "id": "772cd566-a278-449e-90b0-cbdb124f8bbd",
   "metadata": {},
   "outputs": [
    {
     "data": {
      "text/plain": [
       "(398, 31)"
      ]
     },
     "execution_count": 20,
     "metadata": {},
     "output_type": "execute_result"
    }
   ],
   "source": [
    "#Model building STEP1:-Seperating Features & Target\n",
    "X=cancer_df.drop('diagnosis',axis=1)\n",
    "y=cancer_df['diagnosis'].values\n",
    "X.shape\n",
    "y.shape\n",
    "#STEP2 :-Train,Test split\n",
    "from sklearn.model_selection import train_test_split\n",
    "X_train,X_test,y_train,y_test=train_test_split(X,y,test_size=0.3,random_state=27)\n",
    "X_train.shape"
   ]
  },
  {
   "cell_type": "code",
   "execution_count": 32,
   "id": "7e7da92d-6682-4f46-b77c-fc292e74989b",
   "metadata": {},
   "outputs": [
    {
     "name": "stdout",
     "output_type": "stream",
     "text": [
      "              precision    recall  f1-score   support\n",
      "\n",
      "           B       0.61      1.00      0.76       104\n",
      "           M       0.00      0.00      0.00        67\n",
      "\n",
      "    accuracy                           0.61       171\n",
      "   macro avg       0.30      0.50      0.38       171\n",
      "weighted avg       0.37      0.61      0.46       171\n",
      "\n"
     ]
    },
    {
     "name": "stderr",
     "output_type": "stream",
     "text": [
      "C:\\Users\\1202r\\anaconda3\\Lib\\site-packages\\sklearn\\metrics\\_classification.py:1344: UndefinedMetricWarning: Precision and F-score are ill-defined and being set to 0.0 in labels with no predicted samples. Use `zero_division` parameter to control this behavior.\n",
      "  _warn_prf(average, modifier, msg_start, len(result))\n",
      "C:\\Users\\1202r\\anaconda3\\Lib\\site-packages\\sklearn\\metrics\\_classification.py:1344: UndefinedMetricWarning: Precision and F-score are ill-defined and being set to 0.0 in labels with no predicted samples. Use `zero_division` parameter to control this behavior.\n",
      "  _warn_prf(average, modifier, msg_start, len(result))\n",
      "C:\\Users\\1202r\\anaconda3\\Lib\\site-packages\\sklearn\\metrics\\_classification.py:1344: UndefinedMetricWarning: Precision and F-score are ill-defined and being set to 0.0 in labels with no predicted samples. Use `zero_division` parameter to control this behavior.\n",
      "  _warn_prf(average, modifier, msg_start, len(result))\n"
     ]
    }
   ],
   "source": [
    "#STEP3: Fitting model\n",
    "from sklearn.linear_model import LogisticRegression\n",
    "logesticModel=LogisticRegression()\n",
    "logesticModel.fit(X_train,y_train)\n",
    "\n",
    "#STEP4: predict using model\n",
    "y_preds=logesticModel.predict(X_test)\n",
    "#STEP5: Evaluating the model\n",
    "from sklearn.metrics import confusion_matrix\n",
    "confusion_matrix(y_test,y_preds)\n",
    "from sklearn.metrics import classification_report\n",
    "print(classification_report(y_test,y_preds))"
   ]
  },
  {
   "cell_type": "markdown",
   "id": "3fa8b4b8-cd8f-4d6d-a197-952e9043da9c",
   "metadata": {},
   "source": [
    "## DECISION TREE ALGORITHEM"
   ]
  },
  {
   "cell_type": "code",
   "execution_count": 37,
   "id": "a2066917-3165-4858-8828-20dbd53e0dc5",
   "metadata": {},
   "outputs": [
    {
     "data": {
      "text/plain": [
       "array([[99,  5],\n",
       "       [ 9, 58]], dtype=int64)"
      ]
     },
     "execution_count": 37,
     "metadata": {},
     "output_type": "execute_result"
    }
   ],
   "source": [
    "#import algorithem\n",
    "from sklearn.tree import DecisionTreeClassifier   \n",
    "#initialize algorithem\n",
    "dtClassifierModel=DecisionTreeClassifier()\n",
    "## STEP3:Fit the model on training data.\n",
    "dtClassifierModel.fit(X_train,y_train)\n",
    "## STEP4:predict using Model.\n",
    "y_preds_dt=dtClassifierModel.predict(X_test)\n",
    "confusion_matrix(y_test,y_preds_dt)"
   ]
  },
  {
   "cell_type": "code",
   "execution_count": 38,
   "id": "c76f2299-2c55-41d3-84b2-38cafb231ef8",
   "metadata": {},
   "outputs": [
    {
     "name": "stdout",
     "output_type": "stream",
     "text": [
      "              precision    recall  f1-score   support\n",
      "\n",
      "           B       0.92      0.95      0.93       104\n",
      "           M       0.92      0.87      0.89        67\n",
      "\n",
      "    accuracy                           0.92       171\n",
      "   macro avg       0.92      0.91      0.91       171\n",
      "weighted avg       0.92      0.92      0.92       171\n",
      "\n"
     ]
    }
   ],
   "source": [
    "print(classification_report(y_test,y_preds_dt))"
   ]
  },
  {
   "cell_type": "markdown",
   "id": "8c505f8e-1a1a-468e-b609-95232e3e711d",
   "metadata": {},
   "source": [
    "## Naive Bayes classifier Algorithem\n"
   ]
  },
  {
   "cell_type": "code",
   "execution_count": 41,
   "id": "47c91ce1-3641-448f-b368-c9287dfde7f8",
   "metadata": {},
   "outputs": [],
   "source": [
    "from sklearn.naive_bayes import GaussianNB\n"
   ]
  },
  {
   "cell_type": "code",
   "execution_count": 43,
   "id": "dabe074a-e9b3-4c7d-be01-5f8101d6bcce",
   "metadata": {},
   "outputs": [
    {
     "data": {
      "text/plain": [
       "array([[104,   0],\n",
       "       [ 67,   0]], dtype=int64)"
      ]
     },
     "execution_count": 43,
     "metadata": {},
     "output_type": "execute_result"
    }
   ],
   "source": [
    "gussianNbModel=GaussianNB()\n",
    "gussianNbModel.fit(X_train,y_train)\n",
    "y_preds_gNB=gussianNbModel.predict(X_test)\n",
    "confusion_matrix(y_test,y_preds_gNB)"
   ]
  },
  {
   "cell_type": "code",
   "execution_count": 44,
   "id": "0f2bc7b3-e41d-426e-8436-40fa3f199081",
   "metadata": {},
   "outputs": [
    {
     "name": "stdout",
     "output_type": "stream",
     "text": [
      "              precision    recall  f1-score   support\n",
      "\n",
      "           B       0.61      1.00      0.76       104\n",
      "           M       0.00      0.00      0.00        67\n",
      "\n",
      "    accuracy                           0.61       171\n",
      "   macro avg       0.30      0.50      0.38       171\n",
      "weighted avg       0.37      0.61      0.46       171\n",
      "\n"
     ]
    },
    {
     "name": "stderr",
     "output_type": "stream",
     "text": [
      "C:\\Users\\1202r\\anaconda3\\Lib\\site-packages\\sklearn\\metrics\\_classification.py:1344: UndefinedMetricWarning: Precision and F-score are ill-defined and being set to 0.0 in labels with no predicted samples. Use `zero_division` parameter to control this behavior.\n",
      "  _warn_prf(average, modifier, msg_start, len(result))\n",
      "C:\\Users\\1202r\\anaconda3\\Lib\\site-packages\\sklearn\\metrics\\_classification.py:1344: UndefinedMetricWarning: Precision and F-score are ill-defined and being set to 0.0 in labels with no predicted samples. Use `zero_division` parameter to control this behavior.\n",
      "  _warn_prf(average, modifier, msg_start, len(result))\n",
      "C:\\Users\\1202r\\anaconda3\\Lib\\site-packages\\sklearn\\metrics\\_classification.py:1344: UndefinedMetricWarning: Precision and F-score are ill-defined and being set to 0.0 in labels with no predicted samples. Use `zero_division` parameter to control this behavior.\n",
      "  _warn_prf(average, modifier, msg_start, len(result))\n"
     ]
    }
   ],
   "source": [
    "print(classification_report(y_test,y_preds_gNB))"
   ]
  },
  {
   "cell_type": "code",
   "execution_count": 3,
   "id": "9cb3c5fb-5d61-4a70-8c9b-068702f01f72",
   "metadata": {},
   "outputs": [
    {
     "ename": "NameError",
     "evalue": "name 'X_train' is not defined",
     "output_type": "error",
     "traceback": [
      "\u001b[1;31m---------------------------------------------------------------------------\u001b[0m",
      "\u001b[1;31mNameError\u001b[0m                                 Traceback (most recent call last)",
      "Cell \u001b[1;32mIn[3], line 4\u001b[0m\n\u001b[0;32m      1\u001b[0m \u001b[38;5;28;01mfrom\u001b[39;00m \u001b[38;5;21;01msklearn\u001b[39;00m\u001b[38;5;21;01m.\u001b[39;00m\u001b[38;5;21;01msvm\u001b[39;00m \u001b[38;5;28;01mimport\u001b[39;00m SVC\n\u001b[0;32m      2\u001b[0m svmModel\u001b[38;5;241m=\u001b[39mSVC(kernel\u001b[38;5;241m=\u001b[39m\u001b[38;5;124m'\u001b[39m\u001b[38;5;124mlinear\u001b[39m\u001b[38;5;124m'\u001b[39m)\n\u001b[1;32m----> 4\u001b[0m svmModel\u001b[38;5;241m.\u001b[39mfit(X_train,y_train)\n\u001b[0;32m      6\u001b[0m y_preds_svc \u001b[38;5;241m=\u001b[39m svmModel\u001b[38;5;241m.\u001b[39mpredict(X_test)\n\u001b[0;32m      7\u001b[0m y_\n",
      "\u001b[1;31mNameError\u001b[0m: name 'X_train' is not defined"
     ]
    }
   ],
   "source": [
    "from sklearn.svm import SVC\n",
    "svmModel=SVC(kernel='linear')\n",
    "        \n",
    "svmModel.fit(X_train,y_train)\n",
    "            \n",
    "y_preds_svc = svmModel.predict(X_test)\n",
    "y_\n",
    "print(y_preds_svc)\n"
   ]
  },
  {
   "cell_type": "code",
   "execution_count": null,
   "id": "44750fd3-a1af-4e1a-96a6-fc1c2fac429a",
   "metadata": {},
   "outputs": [],
   "source": []
  }
 ],
 "metadata": {
  "kernelspec": {
   "display_name": "Python 3 (ipykernel)",
   "language": "python",
   "name": "python3"
  },
  "language_info": {
   "codemirror_mode": {
    "name": "ipython",
    "version": 3
   },
   "file_extension": ".py",
   "mimetype": "text/x-python",
   "name": "python",
   "nbconvert_exporter": "python",
   "pygments_lexer": "ipython3",
   "version": "3.11.7"
  }
 },
 "nbformat": 4,
 "nbformat_minor": 5
}
