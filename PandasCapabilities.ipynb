{
 "cells": [
  {
   "cell_type": "code",
   "execution_count": 2,
   "id": "3068c75c-2cef-4965-b315-b03c7113f63e",
   "metadata": {},
   "outputs": [
    {
     "name": "stdout",
     "output_type": "stream",
     "text": [
      "{('Australia', 1): [3, 6, 7, 8, 10], ('India', 2): [2], ('Insia', 2): [9], ('Pakistan', 6): [4], ('Sri Lanka', 4): [5], ('West Indies', 7): [0], ('West indies', 7): [1]}\n"
     ]
    }
   ],
   "source": [
    "import pandas as pd\n",
    "world_cup={'Team':['West Indies','West indies','India','Australia','Pakistan','Sri Lanka','Australia','Australia','Australia','Insia','Australia',],'Rank':[7,7,2,1,6,4,1,1,1,2,1],'Year':[1975,1979,1983,1987,1992,1996,1999,2003,2007,2011,2015]}\n",
    "df=pd.DataFrame(world_cup)\n",
    "print(df.groupby(['Team','Rank']).groups)"
   ]
  },
  {
   "cell_type": "code",
   "execution_count": 6,
   "id": "5f9ac4fc-7b78-47e8-ad35-4a3ca9caf2ab",
   "metadata": {},
   "outputs": [
    {
     "name": "stdout",
     "output_type": "stream",
     "text": [
      "    Team  Rank  Year\n",
      "2  India     2  1983\n"
     ]
    }
   ],
   "source": [
    "import pandas as pd\n",
    "world_cup={'Team':['West Indies','West indies','India','Australia','Pakistan','Sri Lanka','Australia','Australia','Australia','Insia','Australia',],'Rank':[7,7,2,1,6,4,1,1,1,2,1],'Year':[1975,1979,1983,1987,1992,1996,1999,2003,2007,2011,2015]}\n",
    "df=pd.DataFrame(world_cup)\n",
    "grouped=df.groupby('Team')\n",
    "print(grouped.get_group('India'))"
   ]
  },
  {
   "cell_type": "code",
   "execution_count": 7,
   "id": "307e906d-c430-49e9-abf8-09ac721bef90",
   "metadata": {},
   "outputs": [
    {
     "name": "stdout",
     "output_type": "stream",
     "text": [
      "   A  B\n",
      "0  1  3\n",
      "1  2  4\n",
      "0  5  7\n",
      "1  6  8\n",
      "   A  B  A  B\n",
      "0  1  3  5  7\n",
      "1  2  4  6  8\n"
     ]
    }
   ],
   "source": [
    "import pandas as pd\n",
    "\n",
    "df1 = pd.DataFrame({'A': [1, 2], 'B': [3, 4]})\n",
    "df2 = pd.DataFrame({'A': [5, 6], 'B': [7, 8]})\n",
    "\n",
    "# Vertical concatenation (adding rows)\n",
    "result = pd.concat([df1, df2])\n",
    "\n",
    "# Horizontal concatenation (adding columns)\n",
    "result_horizontal = pd.concat([df1, df2], axis=1)\n",
    "\n",
    "print(result)\n",
    "print(result_horizontal)\n"
   ]
  },
  {
   "cell_type": "code",
   "execution_count": 16,
   "id": "70325657-8486-40a7-9c17-7fb6e924ce64",
   "metadata": {},
   "outputs": [
    {
     "name": "stdout",
     "output_type": "stream",
     "text": [
      "          Team  Icc_rank  WC_year  points\n",
      "0        India         2     2011     733\n",
      "1    Australia         3     2015     988\n",
      "2  West Indies         7     1979     712\n",
      "3     Pakistan         8     1992     679\n",
      "4    Sri Lanka         4     1996     662\n",
      "          Team  WC_played  ODI_played\n",
      "0        India         11         733\n",
      "1    Australia         10         988\n",
      "2  West Indies         11         712\n",
      "3     Pakistan          9         679\n",
      "4    Sri Lanka          8         662\n",
      "          Team  Icc_rank  WC_year  points  WC_played  ODI_played\n",
      "0        India         2     2011     733         11         733\n",
      "1    Australia         3     2015     988         10         988\n",
      "2  West Indies         7     1979     712         11         712\n",
      "3     Pakistan         8     1992     679          9         679\n",
      "4    Sri Lanka         4     1996     662          8         662\n"
     ]
    }
   ],
   "source": [
    "import pandas as pd\n",
    "champion_stats={'Team':['India','Australia','West Indies','Pakistan','Sri Lanka'],'Icc_rank':[2,3,7,8,4],'WC_year':[2011,2015,1979,1992,1996],'points':[733,988,712,679,662]}\n",
    "match_stats={'Team':['India','Australia','West Indies','Pakistan','Sri Lanka'],'WC_played':[11,10,11,9,8],'ODI_played':[733,988,712,679,662]}\n",
    "df1=pd.DataFrame(champion_stats)\n",
    "df2=pd.DataFrame(match_stats)\n",
    "print(df1)\n",
    "print(df2)\n",
    "print(df1.merge(df2, on='Team'))"
   ]
  },
  {
   "cell_type": "code",
   "execution_count": 17,
   "id": "26b9f691-af3c-433f-9f61-ce84899e8b48",
   "metadata": {},
   "outputs": [
    {
     "name": "stdout",
     "output_type": "stream",
     "text": [
      "          Team  Icc_rank  WC_year  points_x  Icici_rank  points_y\n",
      "0        India         2     2011       733         NaN       NaN\n",
      "1    Australia         3     2015       988         NaN       NaN\n",
      "2  West Indies         7     1979       712         NaN       NaN\n",
      "3     Pakistan         8     1992       679         NaN       NaN\n",
      "4    Sri Lanka         4     1996       662         NaN       NaN\n"
     ]
    }
   ],
   "source": [
    "import pandas as pd\n",
    "champion_stats={'Team':['India','Australia','West Indies','Pakistan','Sri Lanka'],'Icc_rank':[2,3,7,8,4],'WC_year':[2011,2015,1979,1992,1996],'points':[733,988,712,679,662]}\n",
    "chokers={'Team':['South Africa','Newzland','Zimbawe'],'Icici_rank':[1,5,9],'points':[895,764,365]}\n",
    "df1= pd.DataFrame(champion_stats)\n",
    "df2=pd.DataFrame(chokers)\n",
    "print(df1.merge(df2 , on='Team',how='left'))"
   ]
  },
  {
   "cell_type": "code",
   "execution_count": 18,
   "id": "a24a8db5-97fe-4576-b52d-fd5edf20ba02",
   "metadata": {},
   "outputs": [
    {
     "name": "stdout",
     "output_type": "stream",
     "text": [
      "           Team  Icc_rank  WC_year  points_x  Icici_rank  points_y\n",
      "0  South Africa       NaN      NaN       NaN           1       895\n",
      "1      Newzland       NaN      NaN       NaN           5       764\n",
      "2       Zimbawe       NaN      NaN       NaN           9       365\n"
     ]
    }
   ],
   "source": [
    "import pandas as pd\n",
    "champion_stats={'Team':['India','Australia','West Indies','Pakistan','Sri Lanka'],'Icc_rank':[2,3,7,8,4],'WC_year':[2011,2015,1979,1992,1996],'points':[733,988,712,679,662]}\n",
    "chokers={'Team':['South Africa','Newzland','Zimbawe'],'Icici_rank':[1,5,9],'points':[895,764,365]}\n",
    "df1= pd.DataFrame(champion_stats)\n",
    "df2=pd.DataFrame(chokers)\n",
    "print(df1.merge(df2 , on='Team',how='right'))"
   ]
  },
  {
   "cell_type": "code",
   "execution_count": 20,
   "id": "44424c99-75ea-413e-86b0-ac3ada0046d2",
   "metadata": {},
   "outputs": [
    {
     "name": "stdout",
     "output_type": "stream",
     "text": [
      "           Team  Icc_rank  WC_year  points_x  Icici_rank  points_y\n",
      "0         India       2.0   2011.0     733.0         NaN       NaN\n",
      "1     Australia       3.0   2015.0     988.0         NaN       NaN\n",
      "2   West Indies       7.0   1979.0     712.0         NaN       NaN\n",
      "3      Pakistan       8.0   1992.0     679.0         NaN       NaN\n",
      "4     Sri Lanka       4.0   1996.0     662.0         NaN       NaN\n",
      "5  South Africa       NaN      NaN       NaN         1.0     895.0\n",
      "6      Newzland       NaN      NaN       NaN         5.0     764.0\n",
      "7       Zimbawe       NaN      NaN       NaN         9.0     365.0\n"
     ]
    }
   ],
   "source": [
    "import pandas as pd\n",
    "champion_stats={'Team':['India','Australia','West Indies','Pakistan','Sri Lanka'],'Icc_rank':[2,3,7,8,4],'WC_year':[2011,2015,1979,1992,1996],'points':[733,988,712,679,662]}\n",
    "chokers={'Team':['South Africa','Newzland','Zimbawe'],'Icici_rank':[1,5,9],'points':[895,764,365]}\n",
    "df1= pd.DataFrame(champion_stats)\n",
    "df2=pd.DataFrame(chokers)\n",
    "print(df1.merge(df2 , on='Team',how='outer'))"
   ]
  },
  {
   "cell_type": "code",
   "execution_count": 21,
   "id": "8596221e-beed-4ca3-94b2-a2cfa1af443b",
   "metadata": {},
   "outputs": [
    {
     "name": "stdout",
     "output_type": "stream",
     "text": [
      "   EmployeeID     Name    Project\n",
      "0           1    Alice  Project A\n",
      "1           2      Bob        NaN\n",
      "2           3  Charlie  Project B\n",
      "3           4    David        NaN\n"
     ]
    }
   ],
   "source": [
    "import pandas as pd\n",
    "\n",
    "# Example DataFrames\n",
    "df_employees = pd.DataFrame({\n",
    "    'EmployeeID': [1, 2, 3, 4],\n",
    "    'Name': ['Alice', 'Bob', 'Charlie', 'David']\n",
    "})\n",
    "\n",
    "df_projects = pd.DataFrame({\n",
    "    'EmployeeID': [1, 3],\n",
    "    'Project': ['Project A', 'Project B']\n",
    "})\n",
    "\n",
    "# Left Join\n",
    "df_result = pd.merge(df_employees, df_projects, on='EmployeeID', how='left')\n",
    "print(df_result)\n"
   ]
  },
  {
   "cell_type": "code",
   "execution_count": 22,
   "id": "6eefeb88-37a3-4e05-a83a-50f01c25e34d",
   "metadata": {},
   "outputs": [
    {
     "name": "stdout",
     "output_type": "stream",
     "text": [
      "   EmployeeID     Name    Project\n",
      "0           1    Alice  Project A\n",
      "1           3  Charlie  Project B\n"
     ]
    }
   ],
   "source": [
    "import pandas as pd\n",
    "\n",
    "# Example DataFrames\n",
    "df_employees = pd.DataFrame({\n",
    "    'EmployeeID': [1, 2, 3, 4],\n",
    "    'Name': ['Alice', 'Bob', 'Charlie', 'David']\n",
    "})\n",
    "\n",
    "df_projects = pd.DataFrame({\n",
    "    'EmployeeID': [1, 3],\n",
    "    'Project': ['Project A', 'Project B']\n",
    "})\n",
    "\n",
    "# Left Join\n",
    "df_result = pd.merge(df_employees, df_projects, on='EmployeeID', how='inner')\n",
    "print(df_result)"
   ]
  },
  {
   "cell_type": "code",
   "execution_count": 30,
   "id": "6ff0c8e4-d987-42d5-99e7-ad28bd01c6b4",
   "metadata": {},
   "outputs": [
    {
     "name": "stdout",
     "output_type": "stream",
     "text": [
      "(218, 12)\n"
     ]
    }
   ],
   "source": [
    "import pandas as pd\n",
    "dataset=pd.read_csv(\"AllCountries.csv\")\n",
    "print(dataset.shape)"
   ]
  },
  {
   "cell_type": "code",
   "execution_count": 31,
   "id": "ef297a88-4122-4806-a21e-2b41b0f25dc3",
   "metadata": {},
   "outputs": [
    {
     "name": "stdout",
     "output_type": "stream",
     "text": [
      "Country            object\n",
      "LandArea          float64\n",
      "Population        float64\n",
      "Density           float64\n",
      "GDP               float64\n",
      "Rural             float64\n",
      "BirthRate         float64\n",
      "DeathRate         float64\n",
      "ElderlyPop        float64\n",
      "LifeExpectancy    float64\n",
      "FemaleLabor       float64\n",
      "Unemployment      float64\n",
      "dtype: object\n"
     ]
    }
   ],
   "source": [
    "import pandas as pd\n",
    "dataset = pd.read_csv(\"AllCountries.csv\")\n",
    "print(dataset.dtypes)"
   ]
  },
  {
   "cell_type": "code",
   "execution_count": 32,
   "id": "b7c01337-2a4f-49a4-b677-dbc3d44837a2",
   "metadata": {},
   "outputs": [
    {
     "name": "stdout",
     "output_type": "stream",
     "text": [
      "          Country  LandArea  Population  Density     GDP  Rural  BirthRate  \\\n",
      "0     Afghanistan    652.86      30.552     46.8   665.0   74.1       34.1   \n",
      "1         Albania     27.40       2.897    105.7  4460.0   44.6       12.9   \n",
      "2         Algeria   2381.74      39.208     16.5  5361.0   30.5       24.3   \n",
      "3  American Samoa      0.20       0.055    275.0     NaN   12.7        NaN   \n",
      "4         Andorra      0.47       0.079    168.1     NaN   13.8        NaN   \n",
      "\n",
      "   DeathRate  ElderlyPop  LifeExpectancy  FemaleLabor  Unemployment  \n",
      "0        7.8         2.3            60.9         16.2           NaN  \n",
      "1        6.9        10.7            77.5         51.7          13.4  \n",
      "2        5.9         4.6            71.0         16.2          11.0  \n",
      "3        NaN         NaN             NaN          NaN           NaN  \n",
      "4        NaN         NaN             NaN          NaN           NaN  \n"
     ]
    }
   ],
   "source": [
    "import pandas as pd\n",
    "dataset=pd.read_csv(\"AllCountries.csv\")\n",
    "print(dataset.head(5))"
   ]
  },
  {
   "cell_type": "code",
   "execution_count": 34,
   "id": "fa313586-9910-4b97-9977-724934ff6982",
   "metadata": {},
   "outputs": [
    {
     "name": "stdout",
     "output_type": "stream",
     "text": [
      "           LandArea   Population       Density            GDP       Rural  \\\n",
      "count    215.000000   215.000000    215.000000     186.000000  215.000000   \n",
      "mean     604.660335    33.042014    408.243721   14333.672043   41.228372   \n",
      "std     1759.001021   130.424120   1943.951398   20501.708730   24.478096   \n",
      "min        0.002000     0.010000      0.100000     226.000000    0.000000   \n",
      "25%       10.858500     0.836500     34.900000    1846.500000   21.550000   \n",
      "50%       94.280000     6.202000     83.500000    5736.000000   41.600000   \n",
      "75%      440.310000    21.863000    204.750000   16072.500000   61.200000   \n",
      "max    16376.870000  1357.380000  19000.000000  110665.000000   91.300000   \n",
      "\n",
      "        BirthRate   DeathRate  ElderlyPop  LifeExpectancy  FemaleLabor  \\\n",
      "count  202.000000  203.000000  195.000000      199.000000   186.000000   \n",
      "mean    21.250990    8.072906    7.976923       70.841709    58.076882   \n",
      "std     10.513622    3.133041    5.512164        9.096521    17.079121   \n",
      "min      7.900000    1.000000    0.400000       45.600000    14.300000   \n",
      "25%     12.225000    5.950000    3.400000       65.300000    49.725000   \n",
      "50%     19.350000    7.500000    5.500000       73.800000    60.350000   \n",
      "75%     27.500000    9.700000   12.300000       77.250000    70.175000   \n",
      "max     49.700000   17.200000   25.100000       83.800000    89.900000   \n",
      "\n",
      "       Unemployment  \n",
      "count    108.000000  \n",
      "mean       9.687963  \n",
      "std        6.681859  \n",
      "min        0.200000  \n",
      "25%        5.175000  \n",
      "50%        7.800000  \n",
      "75%       13.400000  \n",
      "max       31.000000  \n"
     ]
    }
   ],
   "source": [
    "import pandas as pd\n",
    "dataset= pd.read_csv(\"AllCountries.csv\")\n",
    "print(dataset.describe())"
   ]
  },
  {
   "cell_type": "code",
   "execution_count": 49,
   "id": "51f2e963-5197-4fd2-9a6c-03b3238f2778",
   "metadata": {},
   "outputs": [
    {
     "name": "stdout",
     "output_type": "stream",
     "text": [
      "Pandas(Index=2, Country='Algeria', LandArea=2381.74)\n",
      "Pandas(Index=7, Country='Argentina', LandArea=2736.69)\n",
      "Pandas(Index=10, Country='Australia', LandArea=7682.3)\n",
      "Pandas(Index=26, Country='Brazil', LandArea=8358.14)\n",
      "Pandas(Index=34, Country='Canada', LandArea=9093.51)\n",
      "Pandas(Index=40, Country='China', LandArea=9388.211)\n",
      "Pandas(Index=43, Country='Congo, Dem. Rep.', LandArea=2267.05)\n",
      "Pandas(Index=86, Country='India', LandArea=2973.19)\n",
      "Pandas(Index=97, Country='Kazakhstan', LandArea=2699.7)\n",
      "Pandas(Index=158, Country='Russian Federation', LandArea=16376.87)\n",
      "Pandas(Index=163, Country='Saudi Arabia', LandArea=2149.69)\n",
      "Pandas(Index=182, Country='Sudan', LandArea=2376.0)\n",
      "Pandas(Index=204, Country='United States', LandArea=9147.42)\n"
     ]
    }
   ],
   "source": [
    "import pandas as pd\n",
    "\n",
    "# Load the dataset\n",
    "dataset = pd.read_csv(\"AllCountries.csv\")\n",
    "\n",
    "# Select specific columns\n",
    "selected_dataset = dataset[['Country', 'LandArea']]\n",
    "\n",
    "# Iterate through the DataFrame rows\n",
    "for i in selected_dataset.itertuples():\n",
    "    if i[2] > 2000:\n",
    "        print(i)\n"
   ]
  },
  {
   "cell_type": "code",
   "execution_count": 55,
   "id": "5521d3ca-427a-4808-b795-a635d987251b",
   "metadata": {},
   "outputs": [
    {
     "name": "stdout",
     "output_type": "stream",
     "text": [
      "[   665.   4460.   5361.     nan     nan   5783.  13342.  14715.   3505.\n",
      "     nan  67463.  50511.   7812.  22312.  24689.    958.     nan   7575.\n",
      "  46930.   4894.    805.     nan   2363.   2868.   4662.   7315.  11208.\n",
      "  38563.   7499.    761.    267.   3767.   1007.   1329.  51964.     nan\n",
      "    333.   1054.     nan  15732.   6807.   7831.    815.    484.   3167.\n",
      "  10185.   1529.  13598.     nan     nan  25249.  19858.  59819.   1668.\n",
      "   7176.   5879.   6003.   3314.   3826.  20582.    544.  18877.    505.\n",
      "     nan   4375.  49151.  42560.     nan  11571.    489.   3597.  46251.\n",
      "   1858.  21966.     nan   7891.     nan   3478.    523.    564.   3739.\n",
      "    820.   2291.  38124.  13485.  47349.   1498.   3475.   4763.   6862.\n",
      "  50478.     nan  36051.  35686.   5290.  38634.   5213.  13612.   1246.\n",
      "   1651.     nan  25977.   3877.  52197.   1263.   1661.  15381.   9928.\n",
      "   1126.    454.  11965.     nan  15530. 110665.  91376.   4838.    463.\n",
      "    226.  10538.   6666.    715.  22775.   3627.   1069.   9478.  10307.\n",
      "   3054.   2240.     nan   4056.   7107.   3093.    605.     nan   5693.\n",
      "    694.  50793.     nan  41824.   1851.    415.   3006.     nan 100898.\n",
      "  21929.   3513.   1275.  11810.  11037.   2105.   4265.   6662.   2765.\n",
      "  13654.  21738.  28529.  93714.   9491.  14612.    639.   4212.     nan\n",
      "   1610.  25962.   1047.   6354.  16186.    679.  55182.     nan  18049.\n",
      "  23295.   1954.     nan   6886.   1045.  29882.   3280.  14133.   7328.\n",
      "     nan   6486.   1753.   9826.   3034.  60381.  84748.     nan   1037.\n",
      "    913.   5779.     nan    636.   4427.  18373.   4317.  10972.   7987.\n",
      "     nan   3880.    657.   3900.  43049.  41781.  53042.  16351.   1878.\n",
      "   3277.  14415.   1911.     nan     nan   1473.   1845.    953.     nan\n",
      "     nan     nan] [34.1 12.9 24.3  nan  nan 44.1 16.5 16.8 13.7 10.3 13.2  9.4 18.3 15.3\n",
      " 15.2 20.  12.7 12.5 11.2 23.4 36.4 10.4 19.6 25.7  9.  23.6 14.9 15.5\n",
      "  9.2 40.9 44.7 20.1 25.7 37.3 10.9 12.5 34.2 45.9  9.5 13.9 12.1 18.8\n",
      " 35.2 42.7 37.6 15.1 36.6  9.4  9.5 12.7 11.5 10.2 10.  27.5  nan 20.8\n",
      " 20.8 23.2 20.1 35.4 36.7 10.3 33.   nan 20.4 10.7 12.3 16.4 31.9 42.7\n",
      " 13.3  8.5 30.9  8.5 14.5 19.3 17.4 31.  36.9 37.5 20.3 25.6 25.8  7.9\n",
      "  9.2 13.4 20.4 18.8 18.8 31.1 15.   nan 21.3  8.5 13.5  8.2 27.  22.7\n",
      " 34.9 23.3 14.4  8.6 17.7 20.6 27.2 26.8 10.2 13.4 27.5 35.5 20.7  9.2\n",
      " 10.1 11.3 10.2 10.7 34.7 39.8 17.7 22.  47.1  9.5  nan 34.1 10.9 18.4\n",
      " 23.5 12.1  nan 22.7 11.6 22.7 38.9 17.2 26.  21.  10.2 17.  13.1 22.7\n",
      " 49.7 41.2  nan 11.6 20.9 24.7 25.2 13.1 19.4 28.9 23.7 19.7 24.4  9.6\n",
      "  7.9 10.8 11.   8.8 13.2 35.2 26.2  nan 33.9 19.4 37.7  9.2 18.6 36.6\n",
      "  9.3  nan 10.1 10.2 30.8 43.8 20.9 36.1  9.1 17.9  nan 15.4 16.  16.3\n",
      " 33.5 17.7 29.9 11.8 10.2 24.  33.  39.2 10.2 35.8 36.4 25.5 14.5 19.8\n",
      " 16.8 21.3  nan  nan 43.2 11.1 14.5 12.2 12.5 14.5 22.5 26.6 19.8 15.5\n",
      " 10.7 30.4 31.1 42.8 31.3  nan  nan  nan]\n"
     ]
    },
    {
     "data": {
      "image/png": "[encoded data removed]",
      "text/plain": [
       "<Figure size 640x480 with 1 Axes>"
      ]
     },
     "metadata": {},
     "output_type": "display_data"
    }
   ],
   "source": [
    "import pandas as pd,numpy as np\n",
    "import matplotlib.pyplot as plt\n",
    "dataset=pd.read_csv(\"AllCountries.csv\")\n",
    "selected_dataset= dataset[['Country','GDP','BirthRate']]\n",
    "x=np.array(selected_dataset['GDP'])\n",
    "y=np.array(selected_dataset['BirthRate'])\n",
    "print(x,y)\n",
    "plt.scatter(x,y)\n",
    "plt.xlim(0,20000)           \n",
    "plt.show()"
   ]
  },
  {
   "cell_type": "code",
   "execution_count": 74,
   "id": "d3771f30-0baf-4ae6-85f5-360a8e83f444",
   "metadata": {},
   "outputs": [
    {
     "name": "stdout",
     "output_type": "stream",
     "text": [
      "              Country       GDP  BirthRate\n",
      "113        Luxembourg  110665.0       11.3\n",
      "143            Norway  100898.0       11.6\n",
      "156             Qatar   93714.0       11.0\n",
      "114  Macao SAR, China   91376.0       10.2\n",
      "186       Switzerland   84748.0       10.2\n",
      "10          Australia   67463.0       13.2\n",
      "185            Sweden   60381.0       11.8\n",
      "52            Denmark   59819.0       10.0\n",
      "168         Singapore   55182.0        9.3\n",
      "204     United States   53042.0       12.5\n"
     ]
    },
    {
     "data": {
      "image/png": "[encoded data removed]",
      "text/plain": [
       "<Figure size 400x400 with 1 Axes>"
      ]
     },
     "metadata": {},
     "output_type": "display_data"
    }
   ],
   "source": [
    "import pandas as pd\n",
    "import numpy as np\n",
    "import matplotlib.pyplot\n",
    "\n",
    "dataset=pd.read_csv(\"AllCountries.csv\")\n",
    "selected_dataset=dataset[['Country','GDP','BirthRate']]\n",
    "sorted_dataset=selected_dataset.sort_values(by='GDP', ascending=False)\n",
    "topTenOf_sorted_dataset=sorted_dataset.iloc[:10]\n",
    "print(topTenOf_sorted_dataset)\n",
    "plt.figure(figsize=(4,4))\n",
    "plt.pie(topTenOf_sorted_dataset['GDP'], labels=topTenOf_sorted_dataset['Country'])\n",
    "\n",
    "plt.show()\n"
   ]
  },
  {
   "cell_type": "code",
   "execution_count": null,
   "id": "93bc33df-8b2b-4dce-b39f-4a82e2b00796",
   "metadata": {},
   "outputs": [],
   "source": []
  }
 ],
 "metadata": {
  "kernelspec": {
   "display_name": "Python 3 (ipykernel)",
   "language": "python",
   "name": "python3"
  },
  "language_info": {
   "codemirror_mode": {
    "name": "ipython",
    "version": 3
   },
   "file_extension": ".py",
   "mimetype": "text/x-python",
   "name": "python",
   "nbconvert_exporter": "python",
   "pygments_lexer": "ipython3",
   "version": "3.11.7"
  }
 },
 "nbformat": 4,
 "nbformat_minor": 5
}
