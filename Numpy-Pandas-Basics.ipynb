{
 "cells": [
  {
   "cell_type": "code",
   "execution_count": 1,
   "id": "6d900b91",
   "metadata": {},
   "outputs": [],
   "source": [
    "my_list1 = [100,200,300,400]\n",
    "my_list2 = [200,300,400,500]"
   ]
  },
  {
   "cell_type": "code",
   "execution_count": 2,
   "id": "867f2053",
   "metadata": {},
   "outputs": [
    {
     "data": {
      "text/plain": [
       "[100, 200, 300, 400, 200, 300, 400, 500]"
      ]
     },
     "execution_count": 2,
     "metadata": {},
     "output_type": "execute_result"
    }
   ],
   "source": [
    "my_list1 + my_list2"
   ]
  },
  {
   "cell_type": "markdown",
   "id": "52ebf4ca",
   "metadata": {},
   "source": [
    "## N-Dimensional Arrays"
   ]
  },
  {
   "cell_type": "code",
   "execution_count": 3,
   "id": "4cfbe6f7",
   "metadata": {},
   "outputs": [],
   "source": [
    "import numpy as np"
   ]
  },
  {
   "cell_type": "code",
   "execution_count": 4,
   "id": "56c28d9f",
   "metadata": {},
   "outputs": [
    {
     "data": {
      "text/plain": [
       "list"
      ]
     },
     "execution_count": 4,
     "metadata": {},
     "output_type": "execute_result"
    }
   ],
   "source": [
    "type(my_list1)"
   ]
  },
  {
   "cell_type": "code",
   "execution_count": 5,
   "id": "e8055456",
   "metadata": {},
   "outputs": [],
   "source": [
    "transformed_list1 = np.array(my_list1)"
   ]
  },
  {
   "cell_type": "code",
   "execution_count": 6,
   "id": "b8ce3138",
   "metadata": {},
   "outputs": [
    {
     "data": {
      "text/plain": [
       "array([100, 200, 300, 400])"
      ]
     },
     "execution_count": 6,
     "metadata": {},
     "output_type": "execute_result"
    }
   ],
   "source": [
    "transformed_list1"
   ]
  },
  {
   "cell_type": "code",
   "execution_count": 7,
   "id": "4342a310",
   "metadata": {},
   "outputs": [
    {
     "data": {
      "text/plain": [
       "numpy.ndarray"
      ]
     },
     "execution_count": 7,
     "metadata": {},
     "output_type": "execute_result"
    }
   ],
   "source": [
    "type(transformed_list1)"
   ]
  },
  {
   "cell_type": "code",
   "execution_count": 8,
   "id": "dfe47b74",
   "metadata": {},
   "outputs": [],
   "source": [
    "transformed_list2 = np.array(my_list2)"
   ]
  },
  {
   "cell_type": "code",
   "execution_count": 9,
   "id": "7c628e37",
   "metadata": {},
   "outputs": [
    {
     "data": {
      "text/plain": [
       "numpy.ndarray"
      ]
     },
     "execution_count": 9,
     "metadata": {},
     "output_type": "execute_result"
    }
   ],
   "source": [
    "type(transformed_list2)"
   ]
  },
  {
   "cell_type": "code",
   "execution_count": 10,
   "id": "53c781de",
   "metadata": {},
   "outputs": [
    {
     "data": {
      "text/plain": [
       "array([300, 500, 700, 900])"
      ]
     },
     "execution_count": 10,
     "metadata": {},
     "output_type": "execute_result"
    }
   ],
   "source": [
    "transformed_list1 + transformed_list2"
   ]
  },
  {
   "cell_type": "code",
   "execution_count": 11,
   "id": "7ce6ac1d",
   "metadata": {},
   "outputs": [],
   "source": [
    "my_list3 = ['Vignesh',100,400]\n",
    "my_list4 = ['Steve',60,80]"
   ]
  },
  {
   "cell_type": "code",
   "execution_count": 12,
   "id": "3052b4be",
   "metadata": {},
   "outputs": [],
   "source": [
    "transformed_mylist3 = np.array(my_list3)\n",
    "transformed_mylist4 = np.array(my_list4)"
   ]
  },
  {
   "cell_type": "code",
   "execution_count": 13,
   "id": "23e8e4e4",
   "metadata": {},
   "outputs": [
    {
     "ename": "UFuncTypeError",
     "evalue": "ufunc 'add' did not contain a loop with signature matching types (dtype('<U11'), dtype('<U11')) -> None",
     "output_type": "error",
     "traceback": [
      "\u001b[1;31m---------------------------------------------------------------------------\u001b[0m",
      "\u001b[1;31mUFuncTypeError\u001b[0m                            Traceback (most recent call last)",
      "Cell \u001b[1;32mIn[13], line 1\u001b[0m\n\u001b[1;32m----> 1\u001b[0m transformed_mylist3 \u001b[38;5;241m+\u001b[39m transformed_mylist4\n",
      "\u001b[1;31mUFuncTypeError\u001b[0m: ufunc 'add' did not contain a loop with signature matching types (dtype('<U11'), dtype('<U11')) -> None"
     ]
    }
   ],
   "source": [
    "transformed_mylist3 + transformed_mylist4"
   ]
  },
  {
   "cell_type": "code",
   "execution_count": 14,
   "id": "dca52fa8",
   "metadata": {},
   "outputs": [
    {
     "data": {
      "text/plain": [
       "array([100, 200, 300, 400])"
      ]
     },
     "execution_count": 14,
     "metadata": {},
     "output_type": "execute_result"
    }
   ],
   "source": [
    "transformed_list1"
   ]
  },
  {
   "cell_type": "code",
   "execution_count": 15,
   "id": "6416cb3a",
   "metadata": {},
   "outputs": [
    {
     "data": {
      "text/plain": [
       "array([200, 300, 400, 500])"
      ]
     },
     "execution_count": 15,
     "metadata": {},
     "output_type": "execute_result"
    }
   ],
   "source": [
    "transformed_list2"
   ]
  },
  {
   "cell_type": "code",
   "execution_count": 16,
   "id": "01973ac1",
   "metadata": {},
   "outputs": [
    {
     "data": {
      "text/plain": [
       "array([-100, -100, -100, -100])"
      ]
     },
     "execution_count": 16,
     "metadata": {},
     "output_type": "execute_result"
    }
   ],
   "source": [
    "transformed_list1 - transformed_list2"
   ]
  },
  {
   "cell_type": "code",
   "execution_count": 17,
   "id": "aaea8600",
   "metadata": {},
   "outputs": [
    {
     "data": {
      "text/plain": [
       "array([ 20000,  60000, 120000, 200000])"
      ]
     },
     "execution_count": 17,
     "metadata": {},
     "output_type": "execute_result"
    }
   ],
   "source": [
    "transformed_list1 * transformed_list2"
   ]
  },
  {
   "cell_type": "code",
   "execution_count": 18,
   "id": "3382fc17",
   "metadata": {},
   "outputs": [
    {
     "data": {
      "text/plain": [
       "array([0.5       , 0.66666667, 0.75      , 0.8       ])"
      ]
     },
     "execution_count": 18,
     "metadata": {},
     "output_type": "execute_result"
    }
   ],
   "source": [
    "transformed_list1 / transformed_list2"
   ]
  },
  {
   "cell_type": "code",
   "execution_count": 19,
   "id": "3be67d03",
   "metadata": {},
   "outputs": [
    {
     "data": {
      "text/plain": [
       "array([2.68811714e+043, 7.22597377e+086, 1.94242640e+130, 5.22146969e+173])"
      ]
     },
     "execution_count": 19,
     "metadata": {},
     "output_type": "execute_result"
    }
   ],
   "source": [
    "np.exp(transformed_list1)"
   ]
  },
  {
   "cell_type": "code",
   "execution_count": 20,
   "id": "7272efdd",
   "metadata": {},
   "outputs": [
    {
     "data": {
      "text/plain": [
       "array([4.60517019, 5.29831737, 5.70378247, 5.99146455])"
      ]
     },
     "execution_count": 20,
     "metadata": {},
     "output_type": "execute_result"
    }
   ],
   "source": [
    "np.log(transformed_list1)"
   ]
  },
  {
   "cell_type": "code",
   "execution_count": 21,
   "id": "a9f3e637",
   "metadata": {},
   "outputs": [
    {
     "data": {
      "text/plain": [
       "array([-0.50636564, -0.8732973 , -0.99975584, -0.85091936])"
      ]
     },
     "execution_count": 21,
     "metadata": {},
     "output_type": "execute_result"
    }
   ],
   "source": [
    "np.sin(transformed_list1)"
   ]
  },
  {
   "cell_type": "code",
   "execution_count": 22,
   "id": "53e4c22c",
   "metadata": {},
   "outputs": [
    {
     "data": {
      "text/plain": [
       "array([100, 200, 300, 400])"
      ]
     },
     "execution_count": 22,
     "metadata": {},
     "output_type": "execute_result"
    }
   ],
   "source": [
    "transformed_list1"
   ]
  },
  {
   "cell_type": "code",
   "execution_count": 24,
   "id": "307dafd8",
   "metadata": {},
   "outputs": [
    {
     "data": {
      "text/plain": [
       "300"
      ]
     },
     "execution_count": 24,
     "metadata": {},
     "output_type": "execute_result"
    }
   ],
   "source": [
    "transformed_list1[2]"
   ]
  },
  {
   "cell_type": "code",
   "execution_count": 25,
   "id": "0a28eca0",
   "metadata": {},
   "outputs": [],
   "source": [
    "list_of_list = [[100,200,300],[400,500,600],[700,800,900]]"
   ]
  },
  {
   "cell_type": "code",
   "execution_count": 26,
   "id": "e895564f",
   "metadata": {},
   "outputs": [],
   "source": [
    "transformed_lol = np.array(list_of_list)"
   ]
  },
  {
   "cell_type": "code",
   "execution_count": 27,
   "id": "2460f7f9",
   "metadata": {},
   "outputs": [
    {
     "data": {
      "text/plain": [
       "array([[100, 200, 300],\n",
       "       [400, 500, 600],\n",
       "       [700, 800, 900]])"
      ]
     },
     "execution_count": 27,
     "metadata": {},
     "output_type": "execute_result"
    }
   ],
   "source": [
    "transformed_lol"
   ]
  },
  {
   "cell_type": "code",
   "execution_count": 29,
   "id": "fc4dbe84",
   "metadata": {},
   "outputs": [
    {
     "data": {
      "text/plain": [
       "array([400, 500, 600])"
      ]
     },
     "execution_count": 29,
     "metadata": {},
     "output_type": "execute_result"
    }
   ],
   "source": [
    "transformed_lol[1]"
   ]
  },
  {
   "cell_type": "code",
   "execution_count": 31,
   "id": "4ab72a75",
   "metadata": {},
   "outputs": [
    {
     "data": {
      "text/plain": [
       "array([[400, 500, 600],\n",
       "       [700, 800, 900]])"
      ]
     },
     "execution_count": 31,
     "metadata": {},
     "output_type": "execute_result"
    }
   ],
   "source": [
    "transformed_lol[1:3]"
   ]
  },
  {
   "cell_type": "code",
   "execution_count": 33,
   "id": "611c0e28",
   "metadata": {},
   "outputs": [
    {
     "data": {
      "text/plain": [
       "array([[500, 600],\n",
       "       [800, 900]])"
      ]
     },
     "execution_count": 33,
     "metadata": {},
     "output_type": "execute_result"
    }
   ],
   "source": [
    "transformed_lol[1:3,1:3]"
   ]
  },
  {
   "cell_type": "code",
   "execution_count": 34,
   "id": "49f7e6e7",
   "metadata": {},
   "outputs": [
    {
     "data": {
      "text/plain": [
       "array([200, 500, 800])"
      ]
     },
     "execution_count": 34,
     "metadata": {},
     "output_type": "execute_result"
    }
   ],
   "source": [
    "transformed_lol[:,1]"
   ]
  },
  {
   "cell_type": "code",
   "execution_count": 37,
   "id": "52dfa19d",
   "metadata": {},
   "outputs": [],
   "source": [
    "var1 = np.arange(0,20) #Return values from 0 to 19 (20 is excluded and step size is 1)"
   ]
  },
  {
   "cell_type": "code",
   "execution_count": 38,
   "id": "5ca08153",
   "metadata": {},
   "outputs": [
    {
     "data": {
      "text/plain": [
       "numpy.ndarray"
      ]
     },
     "execution_count": 38,
     "metadata": {},
     "output_type": "execute_result"
    }
   ],
   "source": [
    "type(var1)"
   ]
  },
  {
   "cell_type": "code",
   "execution_count": 39,
   "id": "b12d8b1a",
   "metadata": {},
   "outputs": [
    {
     "data": {
      "text/plain": [
       "array([ 0,  4,  8, 12, 16])"
      ]
     },
     "execution_count": 39,
     "metadata": {},
     "output_type": "execute_result"
    }
   ],
   "source": [
    "np.arange(0,20,4) #Return values from 0 to 16 (20 is excluded and step size is 4)"
   ]
  },
  {
   "cell_type": "code",
   "execution_count": 40,
   "id": "3a271717",
   "metadata": {},
   "outputs": [
    {
     "data": {
      "text/plain": [
       "array([1., 1., 1., 1., 1.])"
      ]
     },
     "execution_count": 40,
     "metadata": {},
     "output_type": "execute_result"
    }
   ],
   "source": [
    "np.ones(5)"
   ]
  },
  {
   "cell_type": "code",
   "execution_count": 41,
   "id": "aa5ee22d",
   "metadata": {},
   "outputs": [
    {
     "data": {
      "text/plain": [
       "array([[1., 1., 1., 1., 1.],\n",
       "       [1., 1., 1., 1., 1.],\n",
       "       [1., 1., 1., 1., 1.],\n",
       "       [1., 1., 1., 1., 1.]])"
      ]
     },
     "execution_count": 41,
     "metadata": {},
     "output_type": "execute_result"
    }
   ],
   "source": [
    "np.ones((4,5))"
   ]
  },
  {
   "cell_type": "code",
   "execution_count": 42,
   "id": "920e2cad",
   "metadata": {},
   "outputs": [
    {
     "data": {
      "text/plain": [
       "array([0., 0., 0., 0., 0.])"
      ]
     },
     "execution_count": 42,
     "metadata": {},
     "output_type": "execute_result"
    }
   ],
   "source": [
    "np.zeros(5)"
   ]
  },
  {
   "cell_type": "code",
   "execution_count": 43,
   "id": "b69a7282",
   "metadata": {},
   "outputs": [
    {
     "data": {
      "text/plain": [
       "array([[1., 0., 0., 0., 0.],\n",
       "       [0., 1., 0., 0., 0.],\n",
       "       [0., 0., 1., 0., 0.],\n",
       "       [0., 0., 0., 1., 0.],\n",
       "       [0., 0., 0., 0., 1.]])"
      ]
     },
     "execution_count": 43,
     "metadata": {},
     "output_type": "execute_result"
    }
   ],
   "source": [
    "np.eye(5)"
   ]
  },
  {
   "cell_type": "code",
   "execution_count": 47,
   "id": "1c243229",
   "metadata": {},
   "outputs": [
    {
     "data": {
      "text/plain": [
       "array([0.48753502, 0.76406648, 0.64145554, 0.67156704, 0.95940113])"
      ]
     },
     "execution_count": 47,
     "metadata": {},
     "output_type": "execute_result"
    }
   ],
   "source": [
    "np.random.rand(5) #Generates random values that actually follows Uniform Distribution (0-1)"
   ]
  },
  {
   "cell_type": "code",
   "execution_count": 48,
   "id": "a60788d2",
   "metadata": {},
   "outputs": [
    {
     "data": {
      "text/plain": [
       "array([ 0.54083649,  0.38038752,  2.27572799, -0.91743881,  1.75953111])"
      ]
     },
     "execution_count": 48,
     "metadata": {},
     "output_type": "execute_result"
    }
   ],
   "source": [
    "np.random.randn(5) #Generates random values that actually follows Normal Distribution"
   ]
  },
  {
   "cell_type": "code",
   "execution_count": 49,
   "id": "b96f7932",
   "metadata": {},
   "outputs": [
    {
     "data": {
      "text/plain": [
       "array([[0.94933866, 0.05722889, 0.30939867, 0.90525035, 0.51190838,\n",
       "        0.41310815],\n",
       "       [0.87189715, 0.45687103, 0.08724721, 0.98829528, 0.45989691,\n",
       "        0.99428669],\n",
       "       [0.20220478, 0.10107019, 0.07967604, 0.25500755, 0.80995635,\n",
       "        0.15551647],\n",
       "       [0.36752252, 0.4557826 , 0.84970579, 0.03747274, 0.37991909,\n",
       "        0.83893544],\n",
       "       [0.38363854, 0.53244878, 0.49728643, 0.9808183 , 0.56645892,\n",
       "        0.59909294]])"
      ]
     },
     "execution_count": 49,
     "metadata": {},
     "output_type": "execute_result"
    }
   ],
   "source": [
    "np.random.rand(5,6)"
   ]
  },
  {
   "cell_type": "code",
   "execution_count": 53,
   "id": "54ec7dac",
   "metadata": {},
   "outputs": [
    {
     "data": {
      "text/plain": [
       "12"
      ]
     },
     "execution_count": 53,
     "metadata": {},
     "output_type": "execute_result"
    }
   ],
   "source": [
    "np.random.randint(5,20) #Returns one random integer between 5 & 19."
   ]
  },
  {
   "cell_type": "code",
   "execution_count": 64,
   "id": "97957a3f",
   "metadata": {},
   "outputs": [],
   "source": [
    "sample_array = np.random.randint(5,1000,30)"
   ]
  },
  {
   "cell_type": "code",
   "execution_count": 66,
   "id": "b9c3b1ca",
   "metadata": {},
   "outputs": [
    {
     "data": {
      "text/plain": [
       "array([280, 489,  67, 821, 808, 906, 106, 268, 348, 136, 141, 316, 581,\n",
       "       145, 324,  72, 948, 676, 758, 824, 370, 544, 648, 344, 644, 970,\n",
       "       248, 737, 272, 831])"
      ]
     },
     "execution_count": 66,
     "metadata": {},
     "output_type": "execute_result"
    }
   ],
   "source": [
    "sample_array"
   ]
  },
  {
   "cell_type": "code",
   "execution_count": 69,
   "id": "bb20e972",
   "metadata": {},
   "outputs": [
    {
     "data": {
      "text/plain": [
       "array([[280, 489,  67, 821, 808],\n",
       "       [906, 106, 268, 348, 136],\n",
       "       [141, 316, 581, 145, 324],\n",
       "       [ 72, 948, 676, 758, 824],\n",
       "       [370, 544, 648, 344, 644],\n",
       "       [970, 248, 737, 272, 831]])"
      ]
     },
     "execution_count": 69,
     "metadata": {},
     "output_type": "execute_result"
    }
   ],
   "source": [
    "sample_array.reshape(6,5)"
   ]
  },
  {
   "cell_type": "code",
   "execution_count": 70,
   "id": "72e49f87",
   "metadata": {},
   "outputs": [
    {
     "data": {
      "text/plain": [
       "970"
      ]
     },
     "execution_count": 70,
     "metadata": {},
     "output_type": "execute_result"
    }
   ],
   "source": [
    "sample_array.max() #Retrieve the max value in the array"
   ]
  },
  {
   "cell_type": "code",
   "execution_count": 72,
   "id": "bc9116f0",
   "metadata": {},
   "outputs": [
    {
     "data": {
      "text/plain": [
       "67"
      ]
     },
     "execution_count": 72,
     "metadata": {},
     "output_type": "execute_result"
    }
   ],
   "source": [
    "sample_array.min() #Retrieve the max value in the array"
   ]
  },
  {
   "cell_type": "code",
   "execution_count": 73,
   "id": "31df1324",
   "metadata": {},
   "outputs": [
    {
     "data": {
      "text/plain": [
       "25"
      ]
     },
     "execution_count": 73,
     "metadata": {},
     "output_type": "execute_result"
    }
   ],
   "source": [
    "sample_array.argmax() #Retrieve the position of the max value"
   ]
  },
  {
   "cell_type": "code",
   "execution_count": 74,
   "id": "c5e69507",
   "metadata": {},
   "outputs": [
    {
     "data": {
      "text/plain": [
       "2"
      ]
     },
     "execution_count": 74,
     "metadata": {},
     "output_type": "execute_result"
    }
   ],
   "source": [
    "sample_array.argmin() #Retrieve the position of the min value"
   ]
  },
  {
   "cell_type": "code",
   "execution_count": 75,
   "id": "357b4367",
   "metadata": {},
   "outputs": [
    {
     "data": {
      "text/plain": [
       "array([280, 489,  67, 821, 808, 906, 106, 268, 348, 136, 141, 316, 581,\n",
       "       145, 324,  72, 948, 676, 758, 824, 370, 544, 648, 344, 644, 970,\n",
       "       248, 737, 272, 831])"
      ]
     },
     "execution_count": 75,
     "metadata": {},
     "output_type": "execute_result"
    }
   ],
   "source": [
    "sample_array"
   ]
  },
  {
   "cell_type": "code",
   "execution_count": 76,
   "id": "6e4cb079",
   "metadata": {},
   "outputs": [],
   "source": [
    "sample_array[1] = 100"
   ]
  },
  {
   "cell_type": "code",
   "execution_count": 77,
   "id": "661a4ee8",
   "metadata": {},
   "outputs": [
    {
     "data": {
      "text/plain": [
       "array([280, 100,  67, 821, 808, 906, 106, 268, 348, 136, 141, 316, 581,\n",
       "       145, 324,  72, 948, 676, 758, 824, 370, 544, 648, 344, 644, 970,\n",
       "       248, 737, 272, 831])"
      ]
     },
     "execution_count": 77,
     "metadata": {},
     "output_type": "execute_result"
    }
   ],
   "source": [
    "sample_array"
   ]
  },
  {
   "cell_type": "code",
   "execution_count": 80,
   "id": "93696bc6",
   "metadata": {},
   "outputs": [],
   "source": [
    "subset_array = sample_array[0:6]"
   ]
  },
  {
   "cell_type": "code",
   "execution_count": 81,
   "id": "dab21ac4",
   "metadata": {},
   "outputs": [
    {
     "data": {
      "text/plain": [
       "array([280, 100,  67, 821, 808, 906])"
      ]
     },
     "execution_count": 81,
     "metadata": {},
     "output_type": "execute_result"
    }
   ],
   "source": [
    "subset_array"
   ]
  },
  {
   "cell_type": "code",
   "execution_count": 82,
   "id": "f66ec62c",
   "metadata": {},
   "outputs": [],
   "source": [
    "subset_array[:] = 100"
   ]
  },
  {
   "cell_type": "code",
   "execution_count": 83,
   "id": "c043dfe7",
   "metadata": {},
   "outputs": [
    {
     "data": {
      "text/plain": [
       "array([100, 100, 100, 100, 100, 100])"
      ]
     },
     "execution_count": 83,
     "metadata": {},
     "output_type": "execute_result"
    }
   ],
   "source": [
    "subset_array"
   ]
  },
  {
   "cell_type": "code",
   "execution_count": 84,
   "id": "174c3035",
   "metadata": {},
   "outputs": [
    {
     "data": {
      "text/plain": [
       "array([100, 100, 100, 100, 100, 100, 106, 268, 348, 136, 141, 316, 581,\n",
       "       145, 324,  72, 948, 676, 758, 824, 370, 544, 648, 344, 644, 970,\n",
       "       248, 737, 272, 831])"
      ]
     },
     "execution_count": 84,
     "metadata": {},
     "output_type": "execute_result"
    }
   ],
   "source": [
    "sample_array"
   ]
  },
  {
   "cell_type": "code",
   "execution_count": 102,
   "id": "d60573fa",
   "metadata": {},
   "outputs": [],
   "source": [
    "sample_array = np.random.randint(5,1000,25)"
   ]
  },
  {
   "cell_type": "code",
   "execution_count": 103,
   "id": "fe74ac98",
   "metadata": {},
   "outputs": [
    {
     "data": {
      "text/plain": [
       "array([462, 842, 467, 100, 751, 537, 924, 947, 167, 766, 927, 402, 464,\n",
       "       736, 171, 995, 442, 331, 661, 973, 913, 561,  76, 261,  35])"
      ]
     },
     "execution_count": 103,
     "metadata": {},
     "output_type": "execute_result"
    }
   ],
   "source": [
    "sample_array"
   ]
  },
  {
   "cell_type": "code",
   "execution_count": 104,
   "id": "44edd196",
   "metadata": {},
   "outputs": [],
   "source": [
    "copy_sample_array = sample_array.copy()"
   ]
  },
  {
   "cell_type": "code",
   "execution_count": 105,
   "id": "5f9e8510",
   "metadata": {},
   "outputs": [
    {
     "data": {
      "text/plain": [
       "array([462, 842, 467, 100, 751, 537, 924, 947, 167, 766, 927, 402, 464,\n",
       "       736, 171, 995, 442, 331, 661, 973, 913, 561,  76, 261,  35])"
      ]
     },
     "execution_count": 105,
     "metadata": {},
     "output_type": "execute_result"
    }
   ],
   "source": [
    "copy_sample_array"
   ]
  },
  {
   "cell_type": "code",
   "execution_count": 106,
   "id": "f3395c6b",
   "metadata": {},
   "outputs": [],
   "source": [
    "subset_sample_array = sample_array[0:6]"
   ]
  },
  {
   "cell_type": "code",
   "execution_count": 107,
   "id": "c292db98",
   "metadata": {},
   "outputs": [
    {
     "data": {
      "text/plain": [
       "array([462, 842, 467, 100, 751, 537])"
      ]
     },
     "execution_count": 107,
     "metadata": {},
     "output_type": "execute_result"
    }
   ],
   "source": [
    "subset_sample_array"
   ]
  },
  {
   "cell_type": "code",
   "execution_count": 108,
   "id": "ad07f223",
   "metadata": {},
   "outputs": [],
   "source": [
    "subset_sample_array[:] = 100"
   ]
  },
  {
   "cell_type": "code",
   "execution_count": 109,
   "id": "d26bd884",
   "metadata": {},
   "outputs": [
    {
     "data": {
      "text/plain": [
       "array([100, 100, 100, 100, 100, 100])"
      ]
     },
     "execution_count": 109,
     "metadata": {},
     "output_type": "execute_result"
    }
   ],
   "source": [
    "subset_sample_array"
   ]
  },
  {
   "cell_type": "code",
   "execution_count": 110,
   "id": "49ba0b25",
   "metadata": {},
   "outputs": [
    {
     "data": {
      "text/plain": [
       "array([100, 100, 100, 100, 100, 100, 924, 947, 167, 766, 927, 402, 464,\n",
       "       736, 171, 995, 442, 331, 661, 973, 913, 561,  76, 261,  35])"
      ]
     },
     "execution_count": 110,
     "metadata": {},
     "output_type": "execute_result"
    }
   ],
   "source": [
    "sample_array"
   ]
  },
  {
   "cell_type": "code",
   "execution_count": 111,
   "id": "3c0cf136",
   "metadata": {},
   "outputs": [
    {
     "data": {
      "text/plain": [
       "array([462, 842, 467, 100, 751, 537, 924, 947, 167, 766, 927, 402, 464,\n",
       "       736, 171, 995, 442, 331, 661, 973, 913, 561,  76, 261,  35])"
      ]
     },
     "execution_count": 111,
     "metadata": {},
     "output_type": "execute_result"
    }
   ],
   "source": [
    "copy_sample_array"
   ]
  },
  {
   "cell_type": "code",
   "execution_count": 112,
   "id": "eadbbca8",
   "metadata": {},
   "outputs": [
    {
     "data": {
      "text/plain": [
       "556.44"
      ]
     },
     "execution_count": 112,
     "metadata": {},
     "output_type": "execute_result"
    }
   ],
   "source": [
    "np.mean(copy_sample_array)"
   ]
  },
  {
   "cell_type": "code",
   "execution_count": 113,
   "id": "d427a092",
   "metadata": {},
   "outputs": [
    {
     "data": {
      "text/plain": [
       "305.7213214677707"
      ]
     },
     "execution_count": 113,
     "metadata": {},
     "output_type": "execute_result"
    }
   ],
   "source": [
    "np.std(copy_sample_array)"
   ]
  },
  {
   "cell_type": "code",
   "execution_count": 114,
   "id": "fa058ba7",
   "metadata": {},
   "outputs": [
    {
     "data": {
      "text/plain": [
       "93465.52639999999"
      ]
     },
     "execution_count": 114,
     "metadata": {},
     "output_type": "execute_result"
    }
   ],
   "source": [
    "np.var(copy_sample_array)"
   ]
  },
  {
   "cell_type": "code",
   "execution_count": 116,
   "id": "f590a34d",
   "metadata": {},
   "outputs": [],
   "source": [
    "sample_matrix = copy_sample_array.reshape(5,5)"
   ]
  },
  {
   "cell_type": "code",
   "execution_count": 117,
   "id": "332f96db",
   "metadata": {},
   "outputs": [
    {
     "data": {
      "text/plain": [
       "array([[-3.42458313e-03,  2.00894778e-03, -1.95872971e-03,\n",
       "         1.32716910e-03,  2.18900508e-03],\n",
       "       [ 4.18919084e-03, -2.25733494e-03,  1.73949931e-03,\n",
       "        -1.73810355e-03, -6.64096529e-04],\n",
       "       [-2.79232911e-03,  2.56168402e-03, -4.31571994e-04,\n",
       "         2.10226535e-04,  1.15359876e-04],\n",
       "       [ 3.79184600e-03, -2.93385858e-03,  3.36254571e-03,\n",
       "        -1.12218483e-03, -2.38428999e-03],\n",
       "       [-2.70415240e-05,  9.27051492e-05, -9.24681420e-04,\n",
       "         1.15096373e-03, -3.56318416e-04]])"
      ]
     },
     "execution_count": 117,
     "metadata": {},
     "output_type": "execute_result"
    }
   ],
   "source": [
    "np.linalg.inv(sample_matrix)"
   ]
  },
  {
   "cell_type": "code",
   "execution_count": 118,
   "id": "8583879e",
   "metadata": {},
   "outputs": [],
   "source": [
    "import math"
   ]
  },
  {
   "cell_type": "code",
   "execution_count": 120,
   "id": "63bfd6f0",
   "metadata": {},
   "outputs": [
    {
     "data": {
      "text/plain": [
       "120"
      ]
     },
     "execution_count": 120,
     "metadata": {},
     "output_type": "execute_result"
    }
   ],
   "source": [
    "math.factorial(5)"
   ]
  },
  {
   "cell_type": "markdown",
   "id": "f1bd0301",
   "metadata": {},
   "source": [
    "## Pandas"
   ]
  },
  {
   "cell_type": "code",
   "execution_count": 121,
   "id": "06562a80",
   "metadata": {},
   "outputs": [],
   "source": [
    "import pandas as pd"
   ]
  },
  {
   "cell_type": "code",
   "execution_count": 122,
   "id": "66792d76",
   "metadata": {},
   "outputs": [],
   "source": [
    "my_dictionary = {'a':10,'b':20,'c':30}"
   ]
  },
  {
   "cell_type": "code",
   "execution_count": 126,
   "id": "16bcbd24",
   "metadata": {},
   "outputs": [],
   "source": [
    "my_list = [10,20,30]\n",
    "index_list = ['x','y','z']"
   ]
  },
  {
   "cell_type": "code",
   "execution_count": 128,
   "id": "0d911259",
   "metadata": {},
   "outputs": [],
   "source": [
    "var = pd.Series(data=my_list, index=index_list)"
   ]
  },
  {
   "cell_type": "code",
   "execution_count": 129,
   "id": "58701f25",
   "metadata": {},
   "outputs": [
    {
     "data": {
      "text/plain": [
       "x    10\n",
       "y    20\n",
       "z    30\n",
       "dtype: int64"
      ]
     },
     "execution_count": 129,
     "metadata": {},
     "output_type": "execute_result"
    }
   ],
   "source": [
    "var"
   ]
  },
  {
   "cell_type": "code",
   "execution_count": 130,
   "id": "d363173b",
   "metadata": {},
   "outputs": [
    {
     "data": {
      "text/plain": [
       "20"
      ]
     },
     "execution_count": 130,
     "metadata": {},
     "output_type": "execute_result"
    }
   ],
   "source": [
    "var['y']"
   ]
  },
  {
   "cell_type": "code",
   "execution_count": 131,
   "id": "5db020ff",
   "metadata": {},
   "outputs": [],
   "source": [
    "student_data1 = {'Cricket':4,'Basketball':3,'Tennis':2}"
   ]
  },
  {
   "cell_type": "code",
   "execution_count": 132,
   "id": "a6bce7c9",
   "metadata": {},
   "outputs": [],
   "source": [
    "student_data2 = {'Cricket':5, 'Football': 3, 'Tennis':4}"
   ]
  },
  {
   "cell_type": "code",
   "execution_count": 134,
   "id": "0b8c5ddb",
   "metadata": {},
   "outputs": [],
   "source": [
    "sports1 = pd.Series(data=student_data1)"
   ]
  },
  {
   "cell_type": "code",
   "execution_count": 135,
   "id": "a1f44d22",
   "metadata": {},
   "outputs": [
    {
     "data": {
      "text/plain": [
       "Cricket       4\n",
       "Basketball    3\n",
       "Tennis        2\n",
       "dtype: int64"
      ]
     },
     "execution_count": 135,
     "metadata": {},
     "output_type": "execute_result"
    }
   ],
   "source": [
    "sports1"
   ]
  },
  {
   "cell_type": "code",
   "execution_count": 136,
   "id": "27d793e3",
   "metadata": {},
   "outputs": [],
   "source": [
    "sports2 = pd.Series(data=student_data2)"
   ]
  },
  {
   "cell_type": "code",
   "execution_count": 137,
   "id": "ad68c042",
   "metadata": {},
   "outputs": [
    {
     "data": {
      "text/plain": [
       "Cricket     5\n",
       "Football    3\n",
       "Tennis      4\n",
       "dtype: int64"
      ]
     },
     "execution_count": 137,
     "metadata": {},
     "output_type": "execute_result"
    }
   ],
   "source": [
    "sports2"
   ]
  },
  {
   "cell_type": "code",
   "execution_count": 138,
   "id": "e139e59a",
   "metadata": {},
   "outputs": [
    {
     "data": {
      "text/plain": [
       "Basketball    NaN\n",
       "Cricket       9.0\n",
       "Football      NaN\n",
       "Tennis        6.0\n",
       "dtype: float64"
      ]
     },
     "execution_count": 138,
     "metadata": {},
     "output_type": "execute_result"
    }
   ],
   "source": [
    "sports1 + sports2"
   ]
  },
  {
   "cell_type": "code",
   "execution_count": 141,
   "id": "fe30a1b4",
   "metadata": {},
   "outputs": [],
   "source": [
    "sample_df = pd.DataFrame(data= np.random.randn(10,5), index = 'A B C D E F G H I J'.split(), columns= 'Score1 Score2 Score3 Score4 Score5'.split())"
   ]
  },
  {
   "cell_type": "code",
   "execution_count": 142,
   "id": "9e43b0f7",
   "metadata": {},
   "outputs": [
    {
     "data": {
      "text/html": [
       "<div>\n",
       "<style scoped>\n",
       "    .dataframe tbody tr th:only-of-type {\n",
       "        vertical-align: middle;\n",
       "    }\n",
       "\n",
       "    .dataframe tbody tr th {\n",
       "        vertical-align: top;\n",
       "    }\n",
       "\n",
       "    .dataframe thead th {\n",
       "        text-align: right;\n",
       "    }\n",
       "</style>\n",
       "<table border=\"1\" class=\"dataframe\">\n",
       "  <thead>\n",
       "    <tr style=\"text-align: right;\">\n",
       "      <th></th>\n",
       "      <th>Score1</th>\n",
       "      <th>Score2</th>\n",
       "      <th>Score3</th>\n",
       "      <th>Score4</th>\n",
       "      <th>Score5</th>\n",
       "    </tr>\n",
       "  </thead>\n",
       "  <tbody>\n",
       "    <tr>\n",
       "      <th>A</th>\n",
       "      <td>0.653267</td>\n",
       "      <td>1.003768</td>\n",
       "      <td>-0.971369</td>\n",
       "      <td>-1.970383</td>\n",
       "      <td>0.440987</td>\n",
       "    </tr>\n",
       "    <tr>\n",
       "      <th>B</th>\n",
       "      <td>-0.880486</td>\n",
       "      <td>-0.509172</td>\n",
       "      <td>1.106688</td>\n",
       "      <td>-0.021892</td>\n",
       "      <td>0.854035</td>\n",
       "    </tr>\n",
       "    <tr>\n",
       "      <th>C</th>\n",
       "      <td>0.367641</td>\n",
       "      <td>0.860104</td>\n",
       "      <td>1.335051</td>\n",
       "      <td>0.402704</td>\n",
       "      <td>-2.231040</td>\n",
       "    </tr>\n",
       "    <tr>\n",
       "      <th>D</th>\n",
       "      <td>-1.405525</td>\n",
       "      <td>2.148181</td>\n",
       "      <td>0.055525</td>\n",
       "      <td>-1.318455</td>\n",
       "      <td>1.248768</td>\n",
       "    </tr>\n",
       "    <tr>\n",
       "      <th>E</th>\n",
       "      <td>0.639222</td>\n",
       "      <td>-0.397676</td>\n",
       "      <td>1.469133</td>\n",
       "      <td>-1.771178</td>\n",
       "      <td>-0.575833</td>\n",
       "    </tr>\n",
       "    <tr>\n",
       "      <th>F</th>\n",
       "      <td>-0.834953</td>\n",
       "      <td>-0.853650</td>\n",
       "      <td>0.355583</td>\n",
       "      <td>-1.551467</td>\n",
       "      <td>0.481310</td>\n",
       "    </tr>\n",
       "    <tr>\n",
       "      <th>G</th>\n",
       "      <td>-1.404201</td>\n",
       "      <td>-0.520235</td>\n",
       "      <td>1.002873</td>\n",
       "      <td>-1.639894</td>\n",
       "      <td>1.147218</td>\n",
       "    </tr>\n",
       "    <tr>\n",
       "      <th>H</th>\n",
       "      <td>-0.143992</td>\n",
       "      <td>1.106420</td>\n",
       "      <td>0.767240</td>\n",
       "      <td>-0.862267</td>\n",
       "      <td>0.182364</td>\n",
       "    </tr>\n",
       "    <tr>\n",
       "      <th>I</th>\n",
       "      <td>0.860263</td>\n",
       "      <td>-0.148644</td>\n",
       "      <td>-1.003691</td>\n",
       "      <td>1.342034</td>\n",
       "      <td>0.535740</td>\n",
       "    </tr>\n",
       "    <tr>\n",
       "      <th>J</th>\n",
       "      <td>0.709983</td>\n",
       "      <td>-1.689958</td>\n",
       "      <td>0.091697</td>\n",
       "      <td>1.448513</td>\n",
       "      <td>-1.762078</td>\n",
       "    </tr>\n",
       "  </tbody>\n",
       "</table>\n",
       "</div>"
      ],
      "text/plain": [
       "     Score1    Score2    Score3    Score4    Score5\n",
       "A  0.653267  1.003768 -0.971369 -1.970383  0.440987\n",
       "B -0.880486 -0.509172  1.106688 -0.021892  0.854035\n",
       "C  0.367641  0.860104  1.335051  0.402704 -2.231040\n",
       "D -1.405525  2.148181  0.055525 -1.318455  1.248768\n",
       "E  0.639222 -0.397676  1.469133 -1.771178 -0.575833\n",
       "F -0.834953 -0.853650  0.355583 -1.551467  0.481310\n",
       "G -1.404201 -0.520235  1.002873 -1.639894  1.147218\n",
       "H -0.143992  1.106420  0.767240 -0.862267  0.182364\n",
       "I  0.860263 -0.148644 -1.003691  1.342034  0.535740\n",
       "J  0.709983 -1.689958  0.091697  1.448513 -1.762078"
      ]
     },
     "execution_count": 142,
     "metadata": {},
     "output_type": "execute_result"
    }
   ],
   "source": [
    "sample_df"
   ]
  },
  {
   "cell_type": "code",
   "execution_count": 143,
   "id": "4973e8e5",
   "metadata": {},
   "outputs": [
    {
     "data": {
      "text/plain": [
       "-0.9713686677770775"
      ]
     },
     "execution_count": 143,
     "metadata": {},
     "output_type": "execute_result"
    }
   ],
   "source": [
    "sample_df.loc['A','Score3']"
   ]
  },
  {
   "cell_type": "code",
   "execution_count": 144,
   "id": "4d232659",
   "metadata": {},
   "outputs": [
    {
     "data": {
      "text/plain": [
       "A   -0.971369\n",
       "B    1.106688\n",
       "C    1.335051\n",
       "D    0.055525\n",
       "E    1.469133\n",
       "F    0.355583\n",
       "G    1.002873\n",
       "H    0.767240\n",
       "I   -1.003691\n",
       "J    0.091697\n",
       "Name: Score3, dtype: float64"
      ]
     },
     "execution_count": 144,
     "metadata": {},
     "output_type": "execute_result"
    }
   ],
   "source": [
    "sample_df['Score3']"
   ]
  },
  {
   "cell_type": "code",
   "execution_count": null,
   "id": "479f322f",
   "metadata": {},
   "outputs": [],
   "source": [
    "list_of_list=[[0, 1, 2],[ 3, 4, 5],[ 6, 7, 8],[ 9,10, 11]]"
   ]
  }
 ],
 "metadata": {
  "kernelspec": {
   "display_name": "Python 3 (ipykernel)",
   "language": "python",
   "name": "python3"
  },
  "language_info": {
   "codemirror_mode": {
    "name": "ipython",
    "version": 3
   },
   "file_extension": ".py",
   "mimetype": "text/x-python",
   "name": "python",
   "nbconvert_exporter": "python",
   "pygments_lexer": "ipython3",
   "version": "3.11.7"
  }
 },
 "nbformat": 4,
 "nbformat_minor": 5
}
